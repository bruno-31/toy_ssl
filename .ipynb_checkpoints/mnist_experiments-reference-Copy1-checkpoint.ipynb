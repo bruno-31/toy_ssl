{
 "cells": [
  {
   "cell_type": "code",
   "execution_count": 1,
   "metadata": {
    "ExecuteTime": {
     "end_time": "2018-05-11T10:11:33.941548Z",
     "start_time": "2018-05-11T10:11:31.692375Z"
    },
    "nbpresent": {
     "id": "e97a0b34-c6d5-43e9-9d1f-47a4a3686d86"
    }
   },
   "outputs": [
    {
     "name": "stderr",
     "output_type": "stream",
     "text": [
      "/home/data/bruno/anaconda3/envs/tf-1.4-env/lib/python3.6/importlib/_bootstrap.py:219: RuntimeWarning: compiletime version 3.5 of module 'tensorflow.python.framework.fast_tensor_util' does not match runtime version 3.6\n",
      "  return f(*args, **kwds)\n"
     ]
    }
   ],
   "source": [
    "import tensorflow as tf\n",
    "import numpy as np\n",
    "from tensorflow.examples.tutorials.mnist import input_data\n",
    "from utils import *\n",
    "slim = tf.contrib.slim\n",
    "from tqdm import tqdm_notebook as tqdm\n",
    "import os \n",
    "os.environ[\"CUDA_VISIBLE_DEVICES\"]=\"0\"\n",
    "from mnist_model import generator,discriminator\n",
    "import utils\n",
    "l = tf.layers"
   ]
  },
  {
   "cell_type": "code",
   "execution_count": 2,
   "metadata": {
    "ExecuteTime": {
     "end_time": "2018-05-11T10:11:34.007021Z",
     "start_time": "2018-05-11T10:11:33.999953Z"
    }
   },
   "outputs": [
    {
     "data": {
      "text/plain": [
       "'\\nidea:\\n-add ema\\n\\n\\nconclusion:\\n-ambient reg on GAN samples is more powerful than unlabeled ambient reg (ie:GAN is a regularizer itself)\\n-0.001 *consistency_gan_loss\\n\\n'"
      ]
     },
     "execution_count": 2,
     "metadata": {},
     "output_type": "execute_result"
    }
   ],
   "source": [
    "\"\"\"\n",
    "idea:\n",
    "-add ema\n",
    "\n",
    "\n",
    "conclusion:\n",
    "-ambient reg on GAN samples is more powerful than unlabeled ambient reg (ie:GAN is a regularizer itself)\n",
    "-0.001 *consistency_gan_loss\n",
    "\n",
    "\"\"\""
   ]
  },
  {
   "cell_type": "markdown",
   "metadata": {
    "nbpresent": {
     "id": "fa9716ff-c87d-497d-a2a9-2237d5545965"
    }
   },
   "source": [
    "## Hyperparam"
   ]
  },
  {
   "cell_type": "code",
   "execution_count": 3,
   "metadata": {
    "ExecuteTime": {
     "end_time": "2018-05-11T10:11:34.063915Z",
     "start_time": "2018-05-11T10:11:34.059946Z"
    },
    "nbpresent": {
     "id": "b110c295-2ec0-4c8e-8e48-3bbd0f1ca1f5"
    }
   },
   "outputs": [],
   "source": [
    "params = dict(\n",
    "    batch_size = 100,\n",
    "    seed = 1234,\n",
    "    z_dim = 100,\n",
    "    x_dim = 784,\n",
    "    reg_w = 0.,\n",
    "    lr = 1e-4,\n",
    "    logdir = 'gan_mnist/',\n",
    "    name_model = 'model_latent100_fc'\n",
    ")\n",
    "rng = np.random.RandomState(params['seed'])  # seed labels"
   ]
  },
  {
   "cell_type": "code",
   "execution_count": 4,
   "metadata": {
    "ExecuteTime": {
     "end_time": "2018-05-11T10:11:34.114067Z",
     "start_time": "2018-05-11T10:11:34.109489Z"
    }
   },
   "outputs": [],
   "source": [
    "params_dnn = dict(\n",
    "    epsilon = .1,\n",
    "    gamma = 0.1, #2.\n",
    "    delta = 0.01,\n",
    "    batch = 50,\n",
    "    mc = 200,\n",
    "    lr=3e-4,\n",
    "    beta1 = 0.9,\n",
    "    epoch = 200,\n",
    "    l2_w = 0.1,\n",
    "    labeled = 10\n",
    ")\n",
    "rng = np.random.RandomState(params['seed'])  # seed labels"
   ]
  },
  {
   "cell_type": "markdown",
   "metadata": {
    "nbpresent": {
     "id": "19d9e7b7-51bc-446b-a4cd-8f0691a2256b"
    }
   },
   "source": [
    "## Data creation (unl)"
   ]
  },
  {
   "cell_type": "code",
   "execution_count": 5,
   "metadata": {
    "ExecuteTime": {
     "end_time": "2018-05-11T10:11:36.575081Z",
     "start_time": "2018-05-11T10:11:34.159930Z"
    },
    "nbpresent": {
     "id": "cfbc3cf4-97bb-4879-bd78-017af441a03e"
    }
   },
   "outputs": [
    {
     "name": "stdout",
     "output_type": "stream",
     "text": [
      "Extracting MNIST_data/train-images-idx3-ubyte.gz\n",
      "Extracting MNIST_data/train-labels-idx1-ubyte.gz\n",
      "Extracting MNIST_data/t10k-images-idx3-ubyte.gz\n",
      "Extracting MNIST_data/t10k-labels-idx1-ubyte.gz\n"
     ]
    }
   ],
   "source": [
    "mnist = input_data.read_data_sets(\"MNIST_data/\", one_hot=False)\n",
    "trainx = np.vstack([mnist.train.images,mnist.validation.images])\n",
    "trainy = np.hstack([mnist.train.labels,mnist.validation.labels])\n",
    "testx = mnist.test.images\n",
    "testy = mnist.test.labels\n",
    "trainx = np.reshape(trainx,[-1,28,28,1])\n",
    "testx = np.reshape(testx,[-1,28,28,1])\n",
    "trainx_unl = trainx.copy()"
   ]
  },
  {
   "cell_type": "code",
   "execution_count": 6,
   "metadata": {
    "ExecuteTime": {
     "end_time": "2018-05-11T10:11:38.580814Z",
     "start_time": "2018-05-11T10:11:36.720602Z"
    }
   },
   "outputs": [
    {
     "name": "stdout",
     "output_type": "stream",
     "text": [
      "6000\n",
      "(100, 28, 28, 1) (6000, 28, 28, 1)\n"
     ]
    },
    {
     "data": {
      "image/png": "[encoded data removed]",
      "text/plain": [
       "<Figure size 432x288 with 1 Axes>"
      ]
     },
     "metadata": {},
     "output_type": "display_data"
    }
   ],
   "source": [
    "validation = False\n",
    "if validation:\n",
    "    split = int(0.1 * trainx.shape[0])\n",
    "    print(split)\n",
    "    testx = trainx[:split]\n",
    "    testy = trainy[:split]\n",
    "    trainx = trainx[split:]\n",
    "    trainy = trainy[split:]\n",
    "\n",
    "trainx_unl = trainx.copy()\n",
    "inds = rng.permutation(trainx.shape[0])\n",
    "trainx = trainx[inds]\n",
    "trainy = trainy[inds]\n",
    "txs = []\n",
    "tys = []\n",
    "for j in range(10):\n",
    "    txs.append(trainx[trainy == j][:params_dnn['labeled']])\n",
    "    tys.append(trainy[trainy == j][:params_dnn['labeled']])\n",
    "txs = np.concatenate(txs, axis=0)\n",
    "tys = np.concatenate(tys, axis=0)\n",
    "trainx = txs\n",
    "trainy = tys\n",
    "\n",
    "\n",
    "    \n",
    "nr_batch_train = trainx.shape[0] // params['batch_size']\n",
    "nr_batch_test = testx.shape[0] // params['batch_size']\n",
    "print(trainx.shape,testx.shape)\n",
    "show_digits(trainx[:])\n",
    "plt.show()"
   ]
  },
  {
   "cell_type": "markdown",
   "metadata": {
    "nbpresent": {
     "id": "b4a8b72b-abd1-4846-9c18-a1c7a5be8c7a"
    }
   },
   "source": [
    "## Build model"
   ]
  },
  {
   "cell_type": "code",
   "execution_count": 7,
   "metadata": {
    "ExecuteTime": {
     "end_time": "2018-05-11T10:11:38.769228Z",
     "start_time": "2018-05-11T10:11:38.766526Z"
    },
    "nbpresent": {
     "id": "37544c17-787c-4988-8cdd-d74d72c00c66"
    }
   },
   "outputs": [],
   "source": [
    "tf.reset_default_graph()"
   ]
  },
  {
   "cell_type": "code",
   "execution_count": 8,
   "metadata": {
    "ExecuteTime": {
     "end_time": "2018-05-11T10:11:43.166149Z",
     "start_time": "2018-05-11T10:11:38.931292Z"
    },
    "nbpresent": {
     "id": "ba1a11eb-9791-4e9d-956f-7a8dcd36aef1"
    }
   },
   "outputs": [
    {
     "name": "stdout",
     "output_type": "stream",
     "text": [
      "Tensor(\"discriminator/layer_3/leaky_relu/sub:0\", shape=(?, 4, 4, 512), dtype=float32)\n",
      "Tensor(\"discriminator_1/layer_3/leaky_relu/sub:0\", shape=(100, 4, 4, 512), dtype=float32)\n"
     ]
    }
   ],
   "source": [
    "unl_dataset = tf.data.Dataset.from_tensor_slices(trainx_unl)\n",
    "unl_dataset = unl_dataset.shuffle(10000).repeat().batch(params['batch_size'])\n",
    "iterator_unl = unl_dataset.make_one_shot_iterator()\n",
    "next_unl = iterator_unl.get_next()\n",
    "\n",
    "is_training_pl = tf.placeholder(tf.bool, [], name='is_training_pl')\n",
    "data = tf.cast(next_unl,tf.float32)\n",
    "noise = tf.random_normal(shape=[params['batch_size'],params['z_dim']])\n",
    "\n",
    "samples = generator(noise,is_training=is_training_pl,reuse=tf.AUTO_REUSE)\n",
    "real_score = discriminator(data,is_training=is_training_pl,reuse=tf.AUTO_REUSE)\n",
    "fake_score = discriminator(samples,is_training=is_training_pl,reuse=tf.AUTO_REUSE)\n",
    "\n",
    "gen_vars = tf.get_collection(tf.GraphKeys.TRAINABLE_VARIABLES, \"generator\")\n",
    "disc_vars = tf.get_collection(tf.GraphKeys.TRAINABLE_VARIABLES, \"discriminator\") \n",
    "\n",
    "loss_g = tf.reduce_mean(tf.nn.sigmoid_cross_entropy_with_logits(logits=fake_score,labels=tf.ones_like(fake_score)))\n",
    "loss_d = tf.reduce_mean(tf.nn.sigmoid_cross_entropy_with_logits(logits=real_score,labels=tf.ones_like(fake_score)))+\\\n",
    "tf.reduce_mean(tf.nn.sigmoid_cross_entropy_with_logits(logits=fake_score,labels=tf.zeros_like(fake_score)))\n",
    "\n",
    "optimizer_dis = tf.train.AdamOptimizer(learning_rate=params['lr'], beta1=0.5, name='dis_optimizer')\n",
    "optimizer_gen = tf.train.AdamOptimizer(learning_rate=params['lr'], beta1=0.5, name='gen_optimizer')\n",
    "\n",
    "update_ops_gen = tf.get_collection(tf.GraphKeys.UPDATE_OPS, scope='generator')\n",
    "update_ops_dis = tf.get_collection(tf.GraphKeys.UPDATE_OPS, scope='discriminator')\n",
    "\n",
    "with tf.control_dependencies(update_ops_gen): # attached op for moving average batch norm\n",
    "    traing = optimizer_gen.minimize(loss_g,var_list=gen_vars)\n",
    "with tf.control_dependencies(update_ops_dis):\n",
    "    traind = optimizer_dis.minimize(loss_d,var_list=disc_vars)"
   ]
  },
  {
   "cell_type": "code",
   "execution_count": 9,
   "metadata": {
    "ExecuteTime": {
     "end_time": "2018-05-11T10:11:50.773083Z",
     "start_time": "2018-05-11T10:11:43.347266Z"
    },
    "nbpresent": {
     "id": "5f362fc8-f4c7-4afe-9ed7-1287042286e8"
    }
   },
   "outputs": [],
   "source": [
    "sess = tf.InteractiveSession()\n",
    "sess.run(tf.global_variables_initializer())\n",
    "# tf.get_collection(tf.GraphKeys.GLOBAL_VARIABLES, scope='my_scope')\n",
    "saver = tf.train.Saver()"
   ]
  },
  {
   "cell_type": "code",
   "execution_count": 10,
   "metadata": {
    "ExecuteTime": {
     "end_time": "2018-05-11T10:12:06.661372Z",
     "start_time": "2018-05-11T10:11:50.977159Z"
    }
   },
   "outputs": [
    {
     "name": "stdout",
     "output_type": "stream",
     "text": [
      "INFO:tensorflow:Restoring parameters from ./gan_mnist/model_latent100_fc\n"
     ]
    }
   ],
   "source": [
    "if tf.train.latest_checkpoint(os.path.join('./gan_mnist/')) is not None:\n",
    "    path = saver.restore(sess, tf.train.latest_checkpoint(os.path.join('./gan_mnist/')))\n",
    "else:\n",
    "    print('no model found')"
   ]
  },
  {
   "cell_type": "code",
   "execution_count": 11,
   "metadata": {
    "ExecuteTime": {
     "end_time": "2018-05-11T10:12:06.859701Z",
     "start_time": "2018-05-11T10:12:06.856486Z"
    },
    "nbpresent": {
     "id": "f6002306-8bea-433f-ac5d-dcc418150de1"
    },
    "scrolled": true
   },
   "outputs": [],
   "source": [
    "# fs = []\n",
    "# frames = []\n",
    "# np_samples = []\n",
    "# n_batches_viz = 1\n",
    "# viz_every = 500\n",
    "# lsd=[]\n",
    "# lsg=[]\n",
    "# for i in tqdm(range(10001)):\n",
    "# #     f, _= sess.run([[loss], train_op],{is_training_pl:True})\n",
    "#     ld,_=sess.run([loss_d,traind],{is_training_pl:True})\n",
    "#     lg,_=sess.run([loss_g, traing],{is_training_pl:True})\n",
    "#     lsd.append(ld); lsg.append(lg);\n",
    "\n",
    "#     if (i) % viz_every == 0:\n",
    "#         xx, yy = sess.run([data,samples],{is_training_pl:True})\n",
    "# #         print('iter nr : ',gstep)\n",
    "#         plt.figure(figsize=(15,5))\n",
    "#         plt.subplot(121)\n",
    "#         show_digits(xx[:100])\n",
    "#         plt.subplot(122)\n",
    "#         show_digits(yy[:100])\n",
    "#         plt.show()\n"
   ]
  },
  {
   "cell_type": "code",
   "execution_count": 12,
   "metadata": {
    "ExecuteTime": {
     "end_time": "2018-05-11T10:12:07.079801Z",
     "start_time": "2018-05-11T10:12:07.077294Z"
    }
   },
   "outputs": [],
   "source": [
    "# if not os.path.exists(params['logdir']):\n",
    "#     os.makedirs(params['logdir'])\n",
    "# saver.save(sess, os.path.join('./saved_models/',params['logdir'],params['name_model']))\n",
    "# saver.save(sess, './efficient_model_saved/')\n"
   ]
  },
  {
   "cell_type": "markdown",
   "metadata": {},
   "source": [
    "## CNN"
   ]
  },
  {
   "cell_type": "markdown",
   "metadata": {},
   "source": [
    "## defining model"
   ]
  },
  {
   "cell_type": "code",
   "execution_count": 13,
   "metadata": {
    "ExecuteTime": {
     "end_time": "2018-05-11T10:12:07.292428Z",
     "start_time": "2018-05-11T10:12:07.285284Z"
    }
   },
   "outputs": [],
   "source": [
    "def lenet(x,training_pl,getter=None):\n",
    "    with tf.variable_scope(\"classifier\", reuse=tf.AUTO_REUSE, custom_getter=getter):\n",
    "        x = tf.reshape(x,[-1,28,28,1])\n",
    "        x = tf.layers.conv2d(x,32,5,activation=tf.nn.relu,padding='same')\n",
    "        x = tf.layers.max_pooling2d(x,2,2)\n",
    "        x = tf.layers.conv2d(x,64,5,activation=tf.nn.relu,padding='same')\n",
    "        x = tf.layers.max_pooling2d(x,2,2)\n",
    "        x = tf.reshape(x, [-1, 7 * 7 * 64])\n",
    "        x = tf.layers.dense(x,1024,activation=tf.nn.relu)\n",
    "        x = tf.layers.dropout(x,rate=0.4,training=training_pl)\n",
    "        x = tf.layers.dense(x,10)\n",
    "        return x\n",
    "    \n",
    "soft = lambda x: 1/(1+tf.exp(-x))    "
   ]
  },
  {
   "cell_type": "code",
   "execution_count": 14,
   "metadata": {
    "ExecuteTime": {
     "end_time": "2018-05-11T10:12:07.607750Z",
     "start_time": "2018-05-11T10:12:07.505586Z"
    }
   },
   "outputs": [],
   "source": [
    "inp = tf.placeholder(tf.float32, [params_dnn['batch'], 28,28,1])\n",
    "lbl = tf.placeholder(tf.int64, [params_dnn['batch']])\n",
    "training_cnn  = tf.placeholder(tf.bool,[])\n",
    "\n",
    "logits = lenet(inp,training_cnn)\n",
    "xloss = tf.losses.sparse_softmax_cross_entropy(logits=logits,labels=lbl)"
   ]
  },
  {
   "cell_type": "code",
   "execution_count": 15,
   "metadata": {
    "ExecuteTime": {
     "end_time": "2018-05-11T10:12:08.411091Z",
     "start_time": "2018-05-11T10:12:07.798557Z"
    }
   },
   "outputs": [],
   "source": [
    "################ AMBIANT GAN ##############\n",
    "samp_logits1 = lenet(samples,training_cnn)\n",
    "p1 = tf.random_normal([params['batch_size'],28,28,1],stddev=0.2) \n",
    "samp_logits2 = lenet(samples + p1,training_cnn)\n",
    "p3 = tf.random_normal([params['batch_size'],28,28,1],stddev=0.2) \n",
    "samp_logits3 = lenet(samples + p3,training_cnn)\n",
    "\n",
    "consistency_gan = tf.reduce_sum(tf.sqrt(tf.square(samp_logits1-samp_logits2)+1e-8),axis=1)\n",
    "consistency_gan_loss = tf.reduce_mean(consistency_gan)\n",
    "\n",
    "ambient_gan = tf.reduce_sum(tf.sqrt(tf.square(samp_logits3-samp_logits2)+1e-8),axis=1)\n",
    "ambient_gan_loss = tf.reduce_mean(ambient_gan)\n",
    "\n",
    "# ################ AMBIANT UNL #################\n",
    "\n",
    "unl = tf.placeholder(tf.float32, [params['batch_size'], 28,28,1])\n",
    "unl_logits1 = lenet(unl,training_cnn)\n",
    "p2 = tf.random_normal([params['batch_size'],28,28,1],stddev=0.2) \n",
    "unl_logits2 = lenet(unl+p2,training_cnn)\n",
    "\n",
    "\n",
    "consistency_unl = tf.reduce_sum(tf.sqrt(tf.square(unl_logits1-unl_logits2)+1e-8),axis=1)\n",
    "consistency_unl_loss = tf.reduce_mean(consistency_unl)\n",
    "\n",
    "kl_gan = kl_divergence_with_logit(samp_logits1,samp_logits2)\n",
    "kl_unl = kl_divergence_with_logit(unl_logits1,unl_logits2)\n",
    "\n",
    "\n",
    "# ############ MANIFOLD ##########\n",
    "z1 = tf.random_normal(shape=[params['batch_size'],params['z_dim']])\n",
    "pert_n = tf.nn.l2_normalize(tf.random_normal(shape=[params['batch_size'],params['z_dim']]),dim=[1])\n",
    "z1_pert = z1 + 1. * pert_n\n",
    "pz = tf.random_normal([params['batch_size'],28,28,1],stddev=0.2) \n",
    "\n",
    "samp_z1 = generator(z1,is_training=is_training_pl,reuse=tf.AUTO_REUSE)\n",
    "samp_z2 = generator(z1_pert,is_training=is_training_pl,reuse=tf.AUTO_REUSE)\n",
    "samp_adv = samp_z1 + 10.* tf.nn.l2_normalize(samp_z2-samp_z1,dim=[1,2,3]) \n",
    "\n",
    "logits_z1= lenet(samp_z1,training_cnn)\n",
    "logits_z2 = lenet(samp_z2+pz,training_cnn)\n",
    "logits_adv = lenet(samp_adv,training_cnn)\n",
    "\n",
    "manifold = tf.reduce_sum(tf.sqrt(tf.square(logits_z1-logits_adv)+1e-8),axis=1)\n",
    "manifold_loss = tf.reduce_mean(manifold)\n",
    "\n",
    "\n",
    "loss = xloss + 0.001  *manifold_loss\n",
    "#+ 0.001 * manifold_loss\n",
    "#+ .0 * consistency_gan_loss + 0. * consistency_unl_loss # + 1. * kl_unl \n",
    "#0.001 *consistency_gan_loss"
   ]
  },
  {
   "cell_type": "code",
   "execution_count": null,
   "metadata": {
    "ExecuteTime": {
     "end_time": "2018-05-06T05:43:54.831166Z",
     "start_time": "2018-05-06T05:43:54.820909Z"
    }
   },
   "outputs": [],
   "source": []
  },
  {
   "cell_type": "code",
   "execution_count": 16,
   "metadata": {
    "ExecuteTime": {
     "end_time": "2018-05-11T10:12:08.727414Z",
     "start_time": "2018-05-11T10:12:08.724766Z"
    }
   },
   "outputs": [],
   "source": [
    "# xx,yy = sess.run([samp_z1,samp_adv],{is_training_pl:False})"
   ]
  },
  {
   "cell_type": "code",
   "execution_count": 17,
   "metadata": {
    "ExecuteTime": {
     "end_time": "2018-05-11T10:12:08.934945Z",
     "start_time": "2018-05-11T10:12:08.932101Z"
    }
   },
   "outputs": [],
   "source": [
    "# for idx in range(20):\n",
    "#     plt.subplot(1,2,1)\n",
    "#     plt.imshow(np.squeeze(xx[idx]),cmap='gray',vmin=0,vmax=1)\n",
    "#     plt.subplot(1,2,2)\n",
    "#     plt.imshow(np.squeeze(yy[idx]),cmap='gray',vmin=0,vmax=1)\n",
    "#     plt.show()"
   ]
  },
  {
   "cell_type": "code",
   "execution_count": 18,
   "metadata": {
    "ExecuteTime": {
     "end_time": "2018-05-11T10:12:09.632162Z",
     "start_time": "2018-05-11T10:12:09.164058Z"
    }
   },
   "outputs": [],
   "source": [
    "with tf.variable_scope(\"adam\",reuse=tf.AUTO_REUSE):\n",
    "    optimizer = tf.train.AdamOptimizer(learning_rate=params_dnn['lr'])\n",
    "    train_op = optimizer.minimize(loss,var_list=tf.trainable_variables(scope='classifier'))\n",
    "\n",
    "    correct_prediction = tf.equal(tf.argmax(logits,1),lbl)\n",
    "    accuracy = tf.reduce_mean(tf.cast(correct_prediction, tf.float32))\n"
   ]
  },
  {
   "cell_type": "code",
   "execution_count": 19,
   "metadata": {
    "ExecuteTime": {
     "end_time": "2018-05-11T10:12:09.911317Z",
     "start_time": "2018-05-11T10:12:09.907667Z"
    }
   },
   "outputs": [],
   "source": [
    "def ema_getter(getter, name, *args, **kwargs):\n",
    "    var = getter(name, *args, **kwargs)\n",
    "    ema_var = ema.average(var)\n",
    "    return ema_var if ema_var else var "
   ]
  },
  {
   "cell_type": "code",
   "execution_count": 20,
   "metadata": {
    "ExecuteTime": {
     "end_time": "2018-05-11T10:12:10.341587Z",
     "start_time": "2018-05-11T10:12:10.123054Z"
    }
   },
   "outputs": [],
   "source": [
    "ema = tf.train.ExponentialMovingAverage(decay=0.999)\n",
    "dvars = tf.get_collection(tf.GraphKeys.TRAINABLE_VARIABLES,scope='classifier')\n",
    "maintain_averages_op = ema.apply(dvars)\n",
    "\n",
    "with tf.control_dependencies([train_op]):\n",
    "    train_op = tf.group(maintain_averages_op)\n",
    "\n",
    "logits_ema = lenet(inp, training_cnn, getter=ema_getter)\n",
    "correct_prediction_ema = tf.equal(tf.argmax(logits_ema,1),lbl)\n",
    "accuracy_ema = tf.reduce_mean(tf.cast(correct_prediction_ema, tf.float32))"
   ]
  },
  {
   "cell_type": "code",
   "execution_count": 21,
   "metadata": {
    "ExecuteTime": {
     "end_time": "2018-05-11T10:12:10.582651Z",
     "start_time": "2018-05-11T10:12:10.580283Z"
    }
   },
   "outputs": [],
   "source": [
    "# tf.get_collection(tf.GraphKeys.GLOBAL_VARIABLES)"
   ]
  },
  {
   "cell_type": "code",
   "execution_count": 22,
   "metadata": {
    "ExecuteTime": {
     "end_time": "2018-05-11T10:12:10.810595Z",
     "start_time": "2018-05-11T10:12:10.801770Z"
    }
   },
   "outputs": [],
   "source": [
    "#init\n",
    "var = tf.global_variables(scope='classifier')+tf.global_variables(scope='ema')+tf.global_variables(scope='adam')\n",
    "init_op = tf.variables_initializer(var_list=var)"
   ]
  },
  {
   "cell_type": "code",
   "execution_count": 23,
   "metadata": {
    "ExecuteTime": {
     "end_time": "2018-05-11T10:12:11.061113Z",
     "start_time": "2018-05-11T10:12:11.058482Z"
    },
    "scrolled": true
   },
   "outputs": [],
   "source": [
    "# [print(v.name) for v in tf.global_variables(scope='ema1')]"
   ]
  },
  {
   "cell_type": "markdown",
   "metadata": {},
   "source": [
    "## cnn training"
   ]
  },
  {
   "cell_type": "code",
   "execution_count": 24,
   "metadata": {
    "ExecuteTime": {
     "end_time": "2018-05-11T10:12:25.605052Z",
     "start_time": "2018-05-11T10:12:11.267710Z"
    }
   },
   "outputs": [],
   "source": [
    "sess.run(init_op)"
   ]
  },
  {
   "cell_type": "code",
   "execution_count": 25,
   "metadata": {
    "ExecuteTime": {
     "end_time": "2018-05-11T10:23:27.363715Z",
     "start_time": "2018-05-11T10:12:25.835184Z"
    },
    "scrolled": true
   },
   "outputs": [
    {
     "name": "stdout",
     "output_type": "stream",
     "text": [
      "20\n",
      "epoch length: 1000 , batch size: 50 , nr_batch_train: 20 , mc size: 100 ,total grad iter: 200000\n"
     ]
    },
    {
     "data": {
      "application/vnd.jupyter.widget-view+json": {
       "model_id": "0ffd1ae6e4fe4ea787fbe0ea09ed8162",
       "version_major": 2,
       "version_minor": 0
      },
      "text/plain": [
       "HBox(children=(IntProgress(value=0, max=300), HTML(value='')))"
      ]
     },
     "metadata": {},
     "output_type": "display_data"
    },
    {
     "name": "stdout",
     "output_type": "stream",
     "text": [
      "Epoch: 0, xloss: 1.62355, training acc: 67.90%, test acc: 69.97%, test acc ema: 8.10%\n",
      "Epoch: 1, xloss: 0.42839, training acc: 89.70%, test acc: 75.67%, test acc ema: 17.73%\n",
      "Epoch: 2, xloss: 0.12202, training acc: 98.00%, test acc: 77.20%, test acc ema: 32.37%\n",
      "Epoch: 3, xloss: 0.04134, training acc: 99.60%, test acc: 78.20%, test acc ema: 52.23%\n",
      "Epoch: 4, xloss: 0.01898, training acc: 99.90%, test acc: 78.93%, test acc ema: 64.50%\n",
      "Epoch: 5, xloss: 0.00899, training acc: 100.00%, test acc: 78.50%, test acc ema: 69.83%\n",
      "Epoch: 6, xloss: 0.00679, training acc: 100.00%, test acc: 79.33%, test acc ema: 73.03%\n",
      "Epoch: 7, xloss: 0.00547, training acc: 100.00%, test acc: 79.43%, test acc ema: 74.77%\n",
      "Epoch: 8, xloss: 0.00401, training acc: 100.00%, test acc: 78.97%, test acc ema: 76.23%\n",
      "Epoch: 9, xloss: 0.00283, training acc: 100.00%, test acc: 79.40%, test acc ema: 76.67%\n",
      "Epoch: 10, xloss: 0.00253, training acc: 100.00%, test acc: 79.63%, test acc ema: 77.20%\n",
      "Epoch: 11, xloss: 0.00207, training acc: 100.00%, test acc: 79.50%, test acc ema: 77.67%\n",
      "Epoch: 12, xloss: 0.00157, training acc: 100.00%, test acc: 79.47%, test acc ema: 77.77%\n",
      "Epoch: 13, xloss: 0.00157, training acc: 100.00%, test acc: 79.43%, test acc ema: 78.23%\n",
      "Epoch: 14, xloss: 0.00151, training acc: 100.00%, test acc: 79.63%, test acc ema: 78.43%\n",
      "Epoch: 15, xloss: 0.00127, training acc: 100.00%, test acc: 79.53%, test acc ema: 78.63%\n",
      "Epoch: 16, xloss: 0.00108, training acc: 100.00%, test acc: 79.67%, test acc ema: 78.80%\n",
      "Epoch: 17, xloss: 0.00104, training acc: 100.00%, test acc: 79.73%, test acc ema: 78.87%\n",
      "Epoch: 18, xloss: 0.00107, training acc: 100.00%, test acc: 79.80%, test acc ema: 79.03%\n",
      "Epoch: 19, xloss: 0.00088, training acc: 100.00%, test acc: 79.87%, test acc ema: 79.17%\n",
      "Epoch: 20, xloss: 0.00088, training acc: 100.00%, test acc: 79.70%, test acc ema: 79.03%\n",
      "Epoch: 21, xloss: 0.00078, training acc: 100.00%, test acc: 79.73%, test acc ema: 78.93%\n",
      "Epoch: 22, xloss: 0.00084, training acc: 100.00%, test acc: 79.87%, test acc ema: 79.03%\n",
      "Epoch: 23, xloss: 0.00077, training acc: 100.00%, test acc: 79.67%, test acc ema: 79.13%\n",
      "Epoch: 24, xloss: 0.00069, training acc: 100.00%, test acc: 79.87%, test acc ema: 79.07%\n",
      "Epoch: 25, xloss: 0.00065, training acc: 100.00%, test acc: 80.10%, test acc ema: 79.03%\n",
      "Epoch: 26, xloss: 0.00074, training acc: 100.00%, test acc: 80.23%, test acc ema: 79.07%\n",
      "Epoch: 27, xloss: 0.00070, training acc: 100.00%, test acc: 79.93%, test acc ema: 79.17%\n",
      "Epoch: 28, xloss: 0.00063, training acc: 100.00%, test acc: 80.10%, test acc ema: 79.23%\n",
      "Epoch: 29, xloss: 0.00065, training acc: 100.00%, test acc: 80.10%, test acc ema: 79.20%\n",
      "Epoch: 30, xloss: 0.00057, training acc: 100.00%, test acc: 80.33%, test acc ema: 79.20%\n",
      "Epoch: 31, xloss: 0.00053, training acc: 100.00%, test acc: 80.30%, test acc ema: 79.27%\n",
      "Epoch: 32, xloss: 0.00053, training acc: 100.00%, test acc: 80.23%, test acc ema: 79.33%\n",
      "Epoch: 33, xloss: 0.00051, training acc: 100.00%, test acc: 80.07%, test acc ema: 79.43%\n",
      "Epoch: 34, xloss: 0.00055, training acc: 100.00%, test acc: 80.20%, test acc ema: 79.47%\n",
      "Epoch: 35, xloss: 0.00050, training acc: 100.00%, test acc: 80.23%, test acc ema: 79.50%\n",
      "Epoch: 36, xloss: 0.00049, training acc: 100.00%, test acc: 80.17%, test acc ema: 79.53%\n",
      "Epoch: 37, xloss: 0.00051, training acc: 100.00%, test acc: 80.17%, test acc ema: 79.67%\n",
      "Epoch: 38, xloss: 0.00048, training acc: 100.00%, test acc: 80.03%, test acc ema: 79.57%\n",
      "Epoch: 39, xloss: 0.00045, training acc: 100.00%, test acc: 80.13%, test acc ema: 79.57%\n",
      "Epoch: 40, xloss: 0.00049, training acc: 100.00%, test acc: 80.03%, test acc ema: 79.63%\n",
      "Epoch: 41, xloss: 0.00050, training acc: 100.00%, test acc: 80.03%, test acc ema: 79.60%\n",
      "Epoch: 42, xloss: 0.00044, training acc: 100.00%, test acc: 80.17%, test acc ema: 79.63%\n",
      "Epoch: 43, xloss: 0.00051, training acc: 100.00%, test acc: 80.07%, test acc ema: 79.73%\n",
      "Epoch: 44, xloss: 0.00043, training acc: 100.00%, test acc: 80.23%, test acc ema: 79.80%\n",
      "Epoch: 45, xloss: 0.00043, training acc: 100.00%, test acc: 80.20%, test acc ema: 79.80%\n",
      "Epoch: 46, xloss: 0.00042, training acc: 100.00%, test acc: 80.03%, test acc ema: 79.90%\n",
      "Epoch: 47, xloss: 0.00042, training acc: 100.00%, test acc: 80.33%, test acc ema: 79.93%\n",
      "Epoch: 48, xloss: 0.00043, training acc: 100.00%, test acc: 80.23%, test acc ema: 79.97%\n",
      "Epoch: 49, xloss: 0.00041, training acc: 100.00%, test acc: 80.37%, test acc ema: 80.00%\n",
      "Epoch: 50, xloss: 0.00043, training acc: 100.00%, test acc: 80.37%, test acc ema: 80.03%\n",
      "Epoch: 51, xloss: 0.00044, training acc: 100.00%, test acc: 80.13%, test acc ema: 80.13%\n",
      "Epoch: 52, xloss: 0.00040, training acc: 100.00%, test acc: 80.27%, test acc ema: 80.13%\n",
      "Epoch: 53, xloss: 0.00040, training acc: 100.00%, test acc: 80.50%, test acc ema: 80.20%\n",
      "Epoch: 54, xloss: 0.00038, training acc: 100.00%, test acc: 80.47%, test acc ema: 80.20%\n",
      "Epoch: 55, xloss: 0.00038, training acc: 100.00%, test acc: 80.33%, test acc ema: 80.17%\n",
      "Epoch: 56, xloss: 0.00040, training acc: 100.00%, test acc: 80.50%, test acc ema: 80.13%\n",
      "Epoch: 57, xloss: 0.00037, training acc: 100.00%, test acc: 80.50%, test acc ema: 80.17%\n",
      "Epoch: 58, xloss: 0.00039, training acc: 100.00%, test acc: 80.50%, test acc ema: 80.10%\n",
      "Epoch: 59, xloss: 0.00039, training acc: 100.00%, test acc: 80.60%, test acc ema: 80.07%\n",
      "Epoch: 60, xloss: 0.00038, training acc: 100.00%, test acc: 80.47%, test acc ema: 80.07%\n",
      "Epoch: 61, xloss: 0.00039, training acc: 100.00%, test acc: 80.37%, test acc ema: 80.17%\n",
      "Epoch: 62, xloss: 0.00038, training acc: 100.00%, test acc: 80.37%, test acc ema: 80.17%\n",
      "Epoch: 63, xloss: 0.00039, training acc: 100.00%, test acc: 80.57%, test acc ema: 80.13%\n",
      "Epoch: 64, xloss: 0.00035, training acc: 100.00%, test acc: 80.67%, test acc ema: 80.10%\n",
      "Epoch: 65, xloss: 0.00034, training acc: 100.00%, test acc: 80.60%, test acc ema: 80.13%\n",
      "Epoch: 66, xloss: 0.00036, training acc: 100.00%, test acc: 80.60%, test acc ema: 80.17%\n",
      "Epoch: 67, xloss: 0.00035, training acc: 100.00%, test acc: 80.57%, test acc ema: 80.17%\n",
      "Epoch: 68, xloss: 0.00034, training acc: 100.00%, test acc: 80.73%, test acc ema: 80.17%\n",
      "Epoch: 69, xloss: 0.00033, training acc: 100.00%, test acc: 80.60%, test acc ema: 80.23%\n",
      "Epoch: 70, xloss: 0.00034, training acc: 100.00%, test acc: 80.57%, test acc ema: 80.23%\n",
      "Epoch: 71, xloss: 0.00035, training acc: 100.00%, test acc: 80.43%, test acc ema: 80.27%\n",
      "Epoch: 72, xloss: 0.00032, training acc: 100.00%, test acc: 80.50%, test acc ema: 80.23%\n",
      "Epoch: 73, xloss: 0.00032, training acc: 100.00%, test acc: 80.67%, test acc ema: 80.30%\n",
      "Epoch: 74, xloss: 0.00033, training acc: 100.00%, test acc: 80.70%, test acc ema: 80.30%\n",
      "Epoch: 75, xloss: 0.00034, training acc: 100.00%, test acc: 80.93%, test acc ema: 80.27%\n",
      "Epoch: 76, xloss: 0.00033, training acc: 100.00%, test acc: 80.73%, test acc ema: 80.30%\n",
      "Epoch: 77, xloss: 0.00030, training acc: 100.00%, test acc: 80.93%, test acc ema: 80.30%\n",
      "Epoch: 78, xloss: 0.00032, training acc: 100.00%, test acc: 81.03%, test acc ema: 80.30%\n",
      "Epoch: 79, xloss: 0.00031, training acc: 100.00%, test acc: 80.97%, test acc ema: 80.30%\n",
      "Epoch: 80, xloss: 0.00030, training acc: 100.00%, test acc: 80.90%, test acc ema: 80.37%\n",
      "Epoch: 81, xloss: 0.00032, training acc: 100.00%, test acc: 81.07%, test acc ema: 80.40%\n",
      "Epoch: 82, xloss: 0.00031, training acc: 100.00%, test acc: 81.20%, test acc ema: 80.40%\n",
      "Epoch: 83, xloss: 0.00030, training acc: 100.00%, test acc: 81.20%, test acc ema: 80.43%\n",
      "Epoch: 84, xloss: 0.00029, training acc: 100.00%, test acc: 81.13%, test acc ema: 80.47%\n",
      "Epoch: 85, xloss: 0.00030, training acc: 100.00%, test acc: 81.13%, test acc ema: 80.57%\n",
      "Epoch: 86, xloss: 0.00031, training acc: 100.00%, test acc: 81.33%, test acc ema: 80.60%\n",
      "Epoch: 87, xloss: 0.00029, training acc: 100.00%, test acc: 81.33%, test acc ema: 80.60%\n",
      "Epoch: 88, xloss: 0.00028, training acc: 100.00%, test acc: 81.17%, test acc ema: 80.63%\n",
      "Epoch: 89, xloss: 0.00028, training acc: 100.00%, test acc: 81.37%, test acc ema: 80.63%\n",
      "Epoch: 90, xloss: 0.00029, training acc: 100.00%, test acc: 81.30%, test acc ema: 80.67%\n",
      "Epoch: 91, xloss: 0.00027, training acc: 100.00%, test acc: 81.23%, test acc ema: 80.63%\n",
      "Epoch: 92, xloss: 0.00026, training acc: 100.00%, test acc: 81.40%, test acc ema: 80.60%\n"
     ]
    },
    {
     "name": "stdout",
     "output_type": "stream",
     "text": [
      "Epoch: 93, xloss: 0.00027, training acc: 100.00%, test acc: 81.37%, test acc ema: 80.63%\n",
      "Epoch: 94, xloss: 0.00027, training acc: 100.00%, test acc: 81.43%, test acc ema: 80.63%\n",
      "Epoch: 95, xloss: 0.00026, training acc: 100.00%, test acc: 81.47%, test acc ema: 80.70%\n",
      "Epoch: 96, xloss: 0.00027, training acc: 100.00%, test acc: 81.63%, test acc ema: 80.80%\n",
      "Epoch: 97, xloss: 0.00026, training acc: 100.00%, test acc: 81.47%, test acc ema: 80.83%\n",
      "Epoch: 98, xloss: 0.00028, training acc: 100.00%, test acc: 81.53%, test acc ema: 80.83%\n",
      "Epoch: 99, xloss: 0.00026, training acc: 100.00%, test acc: 81.60%, test acc ema: 80.87%\n",
      "Epoch: 100, xloss: 0.00026, training acc: 100.00%, test acc: 81.63%, test acc ema: 80.93%\n",
      "Epoch: 101, xloss: 0.00025, training acc: 100.00%, test acc: 81.77%, test acc ema: 80.90%\n",
      "Epoch: 102, xloss: 0.00026, training acc: 100.00%, test acc: 81.87%, test acc ema: 80.93%\n",
      "Epoch: 103, xloss: 0.00025, training acc: 100.00%, test acc: 81.83%, test acc ema: 80.93%\n",
      "Epoch: 104, xloss: 0.00025, training acc: 100.00%, test acc: 81.63%, test acc ema: 80.93%\n",
      "Epoch: 105, xloss: 0.00025, training acc: 100.00%, test acc: 81.83%, test acc ema: 80.97%\n",
      "Epoch: 106, xloss: 0.00026, training acc: 100.00%, test acc: 81.87%, test acc ema: 81.03%\n",
      "Epoch: 107, xloss: 0.00025, training acc: 100.00%, test acc: 81.80%, test acc ema: 81.03%\n",
      "Epoch: 108, xloss: 0.00024, training acc: 100.00%, test acc: 82.07%, test acc ema: 81.10%\n",
      "Epoch: 109, xloss: 0.00024, training acc: 100.00%, test acc: 81.90%, test acc ema: 81.17%\n",
      "Epoch: 110, xloss: 0.00024, training acc: 100.00%, test acc: 82.10%, test acc ema: 81.37%\n",
      "Epoch: 111, xloss: 0.00022, training acc: 100.00%, test acc: 81.97%, test acc ema: 81.47%\n",
      "Epoch: 112, xloss: 0.00025, training acc: 100.00%, test acc: 82.00%, test acc ema: 81.47%\n",
      "Epoch: 113, xloss: 0.00023, training acc: 100.00%, test acc: 82.00%, test acc ema: 81.47%\n",
      "Epoch: 114, xloss: 0.00024, training acc: 100.00%, test acc: 81.90%, test acc ema: 81.47%\n",
      "Epoch: 115, xloss: 0.00022, training acc: 100.00%, test acc: 81.93%, test acc ema: 81.47%\n",
      "Epoch: 116, xloss: 0.00023, training acc: 100.00%, test acc: 81.97%, test acc ema: 81.47%\n",
      "Epoch: 117, xloss: 0.00023, training acc: 100.00%, test acc: 82.00%, test acc ema: 81.50%\n",
      "Epoch: 118, xloss: 0.00023, training acc: 100.00%, test acc: 82.23%, test acc ema: 81.53%\n",
      "Epoch: 119, xloss: 0.00021, training acc: 100.00%, test acc: 82.37%, test acc ema: 81.50%\n",
      "Epoch: 120, xloss: 0.00023, training acc: 100.00%, test acc: 82.23%, test acc ema: 81.53%\n",
      "Epoch: 121, xloss: 0.00023, training acc: 100.00%, test acc: 82.33%, test acc ema: 81.53%\n",
      "Epoch: 122, xloss: 0.00021, training acc: 100.00%, test acc: 82.37%, test acc ema: 81.67%\n",
      "Epoch: 123, xloss: 0.00022, training acc: 100.00%, test acc: 82.50%, test acc ema: 81.70%\n",
      "Epoch: 124, xloss: 0.00022, training acc: 100.00%, test acc: 82.40%, test acc ema: 81.73%\n",
      "Epoch: 125, xloss: 0.00021, training acc: 100.00%, test acc: 82.37%, test acc ema: 81.73%\n",
      "Epoch: 126, xloss: 0.00021, training acc: 100.00%, test acc: 82.43%, test acc ema: 81.77%\n",
      "Epoch: 127, xloss: 0.00021, training acc: 100.00%, test acc: 82.30%, test acc ema: 81.77%\n",
      "Epoch: 128, xloss: 0.00021, training acc: 100.00%, test acc: 82.37%, test acc ema: 81.77%\n",
      "Epoch: 129, xloss: 0.00021, training acc: 100.00%, test acc: 82.63%, test acc ema: 81.77%\n",
      "Epoch: 130, xloss: 0.00022, training acc: 100.00%, test acc: 82.47%, test acc ema: 81.73%\n",
      "Epoch: 131, xloss: 0.00020, training acc: 100.00%, test acc: 82.63%, test acc ema: 81.70%\n",
      "Epoch: 132, xloss: 0.00021, training acc: 100.00%, test acc: 82.70%, test acc ema: 81.70%\n",
      "Epoch: 133, xloss: 0.00020, training acc: 100.00%, test acc: 82.53%, test acc ema: 81.73%\n",
      "Epoch: 134, xloss: 0.00021, training acc: 100.00%, test acc: 82.67%, test acc ema: 81.73%\n",
      "Epoch: 135, xloss: 0.00020, training acc: 100.00%, test acc: 82.83%, test acc ema: 81.83%\n",
      "Epoch: 136, xloss: 0.00020, training acc: 100.00%, test acc: 82.90%, test acc ema: 81.83%\n",
      "Epoch: 137, xloss: 0.00020, training acc: 100.00%, test acc: 82.97%, test acc ema: 81.90%\n",
      "Epoch: 138, xloss: 0.00020, training acc: 100.00%, test acc: 82.73%, test acc ema: 81.93%\n",
      "Epoch: 139, xloss: 0.00019, training acc: 100.00%, test acc: 82.67%, test acc ema: 81.97%\n",
      "Epoch: 140, xloss: 0.00020, training acc: 100.00%, test acc: 82.80%, test acc ema: 82.00%\n",
      "Epoch: 141, xloss: 0.00019, training acc: 100.00%, test acc: 82.93%, test acc ema: 82.03%\n",
      "Epoch: 142, xloss: 0.00019, training acc: 100.00%, test acc: 82.80%, test acc ema: 82.10%\n",
      "Epoch: 143, xloss: 0.00019, training acc: 100.00%, test acc: 82.83%, test acc ema: 82.10%\n",
      "Epoch: 144, xloss: 0.00020, training acc: 100.00%, test acc: 82.80%, test acc ema: 82.13%\n",
      "Epoch: 145, xloss: 0.00018, training acc: 100.00%, test acc: 83.03%, test acc ema: 82.13%\n",
      "Epoch: 146, xloss: 0.00019, training acc: 100.00%, test acc: 82.87%, test acc ema: 82.17%\n",
      "Epoch: 147, xloss: 0.00018, training acc: 100.00%, test acc: 82.87%, test acc ema: 82.23%\n",
      "Epoch: 148, xloss: 0.00019, training acc: 100.00%, test acc: 83.27%, test acc ema: 82.27%\n",
      "Epoch: 149, xloss: 0.00019, training acc: 100.00%, test acc: 82.90%, test acc ema: 82.37%\n",
      "Epoch: 150, xloss: 0.00018, training acc: 100.00%, test acc: 82.80%, test acc ema: 82.33%\n",
      "Epoch: 151, xloss: 0.00018, training acc: 100.00%, test acc: 82.87%, test acc ema: 82.33%\n",
      "Epoch: 152, xloss: 0.00019, training acc: 100.00%, test acc: 83.00%, test acc ema: 82.33%\n",
      "Epoch: 153, xloss: 0.00018, training acc: 100.00%, test acc: 83.10%, test acc ema: 82.37%\n",
      "Epoch: 154, xloss: 0.00018, training acc: 100.00%, test acc: 82.97%, test acc ema: 82.40%\n",
      "Epoch: 155, xloss: 0.00018, training acc: 100.00%, test acc: 83.00%, test acc ema: 82.43%\n",
      "Epoch: 156, xloss: 0.00018, training acc: 100.00%, test acc: 83.00%, test acc ema: 82.50%\n",
      "Epoch: 157, xloss: 0.00017, training acc: 100.00%, test acc: 83.07%, test acc ema: 82.53%\n",
      "Epoch: 158, xloss: 0.00018, training acc: 100.00%, test acc: 82.93%, test acc ema: 82.53%\n",
      "Epoch: 159, xloss: 0.00018, training acc: 100.00%, test acc: 83.07%, test acc ema: 82.53%\n",
      "Epoch: 160, xloss: 0.00016, training acc: 100.00%, test acc: 83.07%, test acc ema: 82.57%\n",
      "Epoch: 161, xloss: 0.00017, training acc: 100.00%, test acc: 83.00%, test acc ema: 82.50%\n",
      "Epoch: 162, xloss: 0.00017, training acc: 100.00%, test acc: 83.33%, test acc ema: 82.53%\n",
      "Epoch: 163, xloss: 0.00016, training acc: 100.00%, test acc: 83.27%, test acc ema: 82.60%\n",
      "Epoch: 164, xloss: 0.00016, training acc: 100.00%, test acc: 83.20%, test acc ema: 82.60%\n",
      "Epoch: 165, xloss: 0.00017, training acc: 100.00%, test acc: 83.07%, test acc ema: 82.67%\n",
      "Epoch: 166, xloss: 0.00016, training acc: 100.00%, test acc: 83.13%, test acc ema: 82.77%\n",
      "Epoch: 167, xloss: 0.00017, training acc: 100.00%, test acc: 83.10%, test acc ema: 82.90%\n",
      "Epoch: 168, xloss: 0.00017, training acc: 100.00%, test acc: 83.17%, test acc ema: 82.93%\n",
      "Epoch: 169, xloss: 0.00016, training acc: 100.00%, test acc: 83.20%, test acc ema: 82.93%\n",
      "Epoch: 170, xloss: 0.00016, training acc: 100.00%, test acc: 83.47%, test acc ema: 82.93%\n",
      "Epoch: 171, xloss: 0.00016, training acc: 100.00%, test acc: 83.40%, test acc ema: 83.00%\n",
      "Epoch: 172, xloss: 0.00016, training acc: 100.00%, test acc: 83.20%, test acc ema: 83.00%\n",
      "Epoch: 173, xloss: 0.00015, training acc: 100.00%, test acc: 83.20%, test acc ema: 83.03%\n",
      "Epoch: 174, xloss: 0.00016, training acc: 100.00%, test acc: 83.17%, test acc ema: 83.07%\n",
      "Epoch: 175, xloss: 0.00015, training acc: 100.00%, test acc: 83.47%, test acc ema: 83.10%\n",
      "Epoch: 176, xloss: 0.00015, training acc: 100.00%, test acc: 83.37%, test acc ema: 83.13%\n",
      "Epoch: 177, xloss: 0.00017, training acc: 100.00%, test acc: 83.40%, test acc ema: 83.07%\n",
      "Epoch: 178, xloss: 0.00015, training acc: 100.00%, test acc: 83.43%, test acc ema: 83.07%\n",
      "Epoch: 179, xloss: 0.00015, training acc: 100.00%, test acc: 83.27%, test acc ema: 83.07%\n",
      "Epoch: 180, xloss: 0.00016, training acc: 100.00%, test acc: 83.43%, test acc ema: 83.07%\n",
      "Epoch: 181, xloss: 0.00015, training acc: 100.00%, test acc: 83.37%, test acc ema: 83.07%\n",
      "Epoch: 182, xloss: 0.00015, training acc: 100.00%, test acc: 83.53%, test acc ema: 83.10%\n",
      "Epoch: 183, xloss: 0.00015, training acc: 100.00%, test acc: 83.47%, test acc ema: 83.10%\n",
      "Epoch: 184, xloss: 0.00014, training acc: 100.00%, test acc: 83.57%, test acc ema: 83.13%\n"
     ]
    },
    {
     "name": "stdout",
     "output_type": "stream",
     "text": [
      "Epoch: 185, xloss: 0.00015, training acc: 100.00%, test acc: 83.37%, test acc ema: 83.17%\n",
      "Epoch: 186, xloss: 0.00014, training acc: 100.00%, test acc: 83.47%, test acc ema: 83.10%\n",
      "Epoch: 187, xloss: 0.00014, training acc: 100.00%, test acc: 83.60%, test acc ema: 83.10%\n",
      "Epoch: 188, xloss: 0.00014, training acc: 100.00%, test acc: 83.37%, test acc ema: 83.13%\n",
      "Epoch: 189, xloss: 0.00013, training acc: 100.00%, test acc: 83.63%, test acc ema: 83.13%\n",
      "Epoch: 190, xloss: 0.00014, training acc: 100.00%, test acc: 83.53%, test acc ema: 83.13%\n",
      "Epoch: 191, xloss: 0.00013, training acc: 100.00%, test acc: 83.67%, test acc ema: 83.17%\n",
      "Epoch: 192, xloss: 0.00015, training acc: 100.00%, test acc: 83.70%, test acc ema: 83.23%\n",
      "Epoch: 193, xloss: 0.00013, training acc: 100.00%, test acc: 83.30%, test acc ema: 83.37%\n",
      "Epoch: 194, xloss: 0.00014, training acc: 100.00%, test acc: 83.63%, test acc ema: 83.33%\n",
      "Epoch: 195, xloss: 0.00013, training acc: 100.00%, test acc: 83.60%, test acc ema: 83.37%\n",
      "Epoch: 196, xloss: 0.00014, training acc: 100.00%, test acc: 83.33%, test acc ema: 83.37%\n",
      "Epoch: 197, xloss: 0.00013, training acc: 100.00%, test acc: 83.80%, test acc ema: 83.43%\n",
      "Epoch: 198, xloss: 0.00013, training acc: 100.00%, test acc: 83.50%, test acc ema: 83.43%\n",
      "Epoch: 199, xloss: 0.00013, training acc: 100.00%, test acc: 83.73%, test acc ema: 83.40%\n",
      "Epoch: 200, xloss: 0.00013, training acc: 100.00%, test acc: 83.50%, test acc ema: 83.40%\n",
      "Epoch: 201, xloss: 0.00012, training acc: 100.00%, test acc: 84.10%, test acc ema: 83.40%\n",
      "Epoch: 202, xloss: 0.00013, training acc: 100.00%, test acc: 83.70%, test acc ema: 83.50%\n",
      "Epoch: 203, xloss: 0.00013, training acc: 100.00%, test acc: 83.67%, test acc ema: 83.50%\n",
      "Epoch: 204, xloss: 0.00013, training acc: 100.00%, test acc: 83.77%, test acc ema: 83.50%\n",
      "Epoch: 205, xloss: 0.00012, training acc: 100.00%, test acc: 83.53%, test acc ema: 83.53%\n",
      "Epoch: 206, xloss: 0.00013, training acc: 100.00%, test acc: 83.60%, test acc ema: 83.60%\n",
      "Epoch: 207, xloss: 0.00012, training acc: 100.00%, test acc: 83.43%, test acc ema: 83.63%\n",
      "Epoch: 208, xloss: 0.00013, training acc: 100.00%, test acc: 83.60%, test acc ema: 83.63%\n",
      "Epoch: 209, xloss: 0.00012, training acc: 100.00%, test acc: 83.67%, test acc ema: 83.60%\n",
      "Epoch: 210, xloss: 0.00012, training acc: 100.00%, test acc: 83.67%, test acc ema: 83.60%\n",
      "Epoch: 211, xloss: 0.00012, training acc: 100.00%, test acc: 83.97%, test acc ema: 83.60%\n",
      "Epoch: 212, xloss: 0.00013, training acc: 100.00%, test acc: 83.57%, test acc ema: 83.63%\n",
      "Epoch: 213, xloss: 0.00012, training acc: 100.00%, test acc: 83.73%, test acc ema: 83.60%\n",
      "Epoch: 214, xloss: 0.00012, training acc: 100.00%, test acc: 83.73%, test acc ema: 83.60%\n",
      "Epoch: 215, xloss: 0.00012, training acc: 100.00%, test acc: 84.03%, test acc ema: 83.63%\n",
      "Epoch: 216, xloss: 0.00012, training acc: 100.00%, test acc: 83.80%, test acc ema: 83.60%\n",
      "Epoch: 217, xloss: 0.00012, training acc: 100.00%, test acc: 83.67%, test acc ema: 83.63%\n",
      "Epoch: 218, xloss: 0.00012, training acc: 100.00%, test acc: 83.90%, test acc ema: 83.63%\n",
      "Epoch: 219, xloss: 0.00011, training acc: 100.00%, test acc: 84.00%, test acc ema: 83.67%\n",
      "Epoch: 220, xloss: 0.00011, training acc: 100.00%, test acc: 83.93%, test acc ema: 83.67%\n",
      "Epoch: 221, xloss: 0.00012, training acc: 100.00%, test acc: 83.70%, test acc ema: 83.67%\n",
      "Epoch: 222, xloss: 0.00012, training acc: 100.00%, test acc: 83.93%, test acc ema: 83.70%\n",
      "Epoch: 223, xloss: 0.00011, training acc: 100.00%, test acc: 83.93%, test acc ema: 83.67%\n",
      "Epoch: 224, xloss: 0.00011, training acc: 100.00%, test acc: 83.57%, test acc ema: 83.60%\n",
      "Epoch: 225, xloss: 0.00011, training acc: 100.00%, test acc: 83.53%, test acc ema: 83.60%\n",
      "Epoch: 226, xloss: 0.00012, training acc: 100.00%, test acc: 83.77%, test acc ema: 83.60%\n",
      "Epoch: 227, xloss: 0.00011, training acc: 100.00%, test acc: 83.73%, test acc ema: 83.63%\n",
      "Epoch: 228, xloss: 0.00011, training acc: 100.00%, test acc: 83.70%, test acc ema: 83.63%\n",
      "Epoch: 229, xloss: 0.00011, training acc: 100.00%, test acc: 83.77%, test acc ema: 83.63%\n",
      "Epoch: 230, xloss: 0.00011, training acc: 100.00%, test acc: 83.83%, test acc ema: 83.73%\n",
      "Epoch: 231, xloss: 0.00010, training acc: 100.00%, test acc: 84.30%, test acc ema: 83.73%\n",
      "Epoch: 232, xloss: 0.00011, training acc: 100.00%, test acc: 84.03%, test acc ema: 83.77%\n",
      "Epoch: 233, xloss: 0.00011, training acc: 100.00%, test acc: 83.33%, test acc ema: 83.83%\n",
      "Epoch: 234, xloss: 0.00011, training acc: 100.00%, test acc: 83.43%, test acc ema: 83.80%\n",
      "Epoch: 235, xloss: 0.00011, training acc: 100.00%, test acc: 83.57%, test acc ema: 83.80%\n",
      "Epoch: 236, xloss: 0.00011, training acc: 100.00%, test acc: 83.97%, test acc ema: 83.80%\n",
      "Epoch: 237, xloss: 0.00010, training acc: 100.00%, test acc: 83.70%, test acc ema: 83.77%\n",
      "Epoch: 238, xloss: 0.00010, training acc: 100.00%, test acc: 83.93%, test acc ema: 83.77%\n",
      "Epoch: 239, xloss: 0.00010, training acc: 100.00%, test acc: 84.07%, test acc ema: 83.80%\n",
      "Epoch: 240, xloss: 0.00010, training acc: 100.00%, test acc: 83.13%, test acc ema: 83.80%\n",
      "Epoch: 241, xloss: 0.00011, training acc: 100.00%, test acc: 83.97%, test acc ema: 83.87%\n",
      "Epoch: 242, xloss: 0.00009, training acc: 100.00%, test acc: 83.57%, test acc ema: 83.87%\n",
      "Epoch: 243, xloss: 0.00010, training acc: 100.00%, test acc: 83.83%, test acc ema: 83.87%\n",
      "Epoch: 244, xloss: 0.00010, training acc: 100.00%, test acc: 83.50%, test acc ema: 83.80%\n",
      "Epoch: 245, xloss: 0.00010, training acc: 100.00%, test acc: 83.53%, test acc ema: 83.80%\n",
      "Epoch: 246, xloss: 0.00010, training acc: 100.00%, test acc: 83.60%, test acc ema: 83.80%\n",
      "Epoch: 247, xloss: 0.00010, training acc: 100.00%, test acc: 83.83%, test acc ema: 83.80%\n",
      "Epoch: 248, xloss: 0.00010, training acc: 100.00%, test acc: 83.70%, test acc ema: 83.80%\n",
      "Epoch: 249, xloss: 0.00010, training acc: 100.00%, test acc: 83.93%, test acc ema: 83.70%\n",
      "Epoch: 250, xloss: 0.00009, training acc: 100.00%, test acc: 83.40%, test acc ema: 83.73%\n",
      "Epoch: 251, xloss: 0.00010, training acc: 100.00%, test acc: 83.57%, test acc ema: 83.73%\n",
      "Epoch: 252, xloss: 0.00009, training acc: 100.00%, test acc: 83.70%, test acc ema: 83.77%\n",
      "Epoch: 253, xloss: 0.00009, training acc: 100.00%, test acc: 83.57%, test acc ema: 83.73%\n",
      "Epoch: 254, xloss: 0.00010, training acc: 100.00%, test acc: 83.47%, test acc ema: 83.67%\n",
      "Epoch: 255, xloss: 0.00010, training acc: 100.00%, test acc: 83.30%, test acc ema: 83.63%\n",
      "Epoch: 256, xloss: 0.00009, training acc: 100.00%, test acc: 83.23%, test acc ema: 83.63%\n",
      "Epoch: 257, xloss: 0.00010, training acc: 100.00%, test acc: 83.83%, test acc ema: 83.63%\n",
      "Epoch: 258, xloss: 0.00010, training acc: 100.00%, test acc: 83.33%, test acc ema: 83.60%\n",
      "Epoch: 259, xloss: 0.00009, training acc: 100.00%, test acc: 82.83%, test acc ema: 83.60%\n",
      "Epoch: 260, xloss: 0.00010, training acc: 100.00%, test acc: 83.70%, test acc ema: 83.60%\n",
      "Epoch: 261, xloss: 0.00009, training acc: 100.00%, test acc: 83.13%, test acc ema: 83.57%\n",
      "Epoch: 262, xloss: 0.00009, training acc: 100.00%, test acc: 83.23%, test acc ema: 83.63%\n",
      "Epoch: 263, xloss: 0.00009, training acc: 100.00%, test acc: 83.73%, test acc ema: 83.63%\n",
      "Epoch: 264, xloss: 0.00010, training acc: 100.00%, test acc: 83.17%, test acc ema: 83.57%\n",
      "Epoch: 265, xloss: 0.00009, training acc: 100.00%, test acc: 83.07%, test acc ema: 83.50%\n",
      "Epoch: 266, xloss: 0.00008, training acc: 100.00%, test acc: 83.60%, test acc ema: 83.53%\n",
      "Epoch: 267, xloss: 0.00010, training acc: 100.00%, test acc: 83.43%, test acc ema: 83.50%\n",
      "Epoch: 268, xloss: 0.00009, training acc: 100.00%, test acc: 83.60%, test acc ema: 83.57%\n",
      "Epoch: 269, xloss: 0.00008, training acc: 100.00%, test acc: 83.27%, test acc ema: 83.53%\n",
      "Epoch: 270, xloss: 0.00009, training acc: 100.00%, test acc: 83.53%, test acc ema: 83.50%\n",
      "Epoch: 271, xloss: 0.00008, training acc: 100.00%, test acc: 83.60%, test acc ema: 83.67%\n",
      "Epoch: 272, xloss: 0.00008, training acc: 100.00%, test acc: 83.13%, test acc ema: 83.63%\n",
      "Epoch: 273, xloss: 0.00008, training acc: 100.00%, test acc: 83.47%, test acc ema: 83.63%\n",
      "Epoch: 274, xloss: 0.00009, training acc: 100.00%, test acc: 82.83%, test acc ema: 83.60%\n",
      "Epoch: 275, xloss: 0.00008, training acc: 100.00%, test acc: 83.23%, test acc ema: 83.60%\n",
      "Epoch: 276, xloss: 0.00008, training acc: 100.00%, test acc: 83.30%, test acc ema: 83.57%\n"
     ]
    },
    {
     "name": "stdout",
     "output_type": "stream",
     "text": [
      "Epoch: 277, xloss: 0.00009, training acc: 100.00%, test acc: 83.27%, test acc ema: 83.53%\n",
      "Epoch: 278, xloss: 0.00008, training acc: 100.00%, test acc: 83.93%, test acc ema: 83.53%\n",
      "Epoch: 279, xloss: 0.00008, training acc: 100.00%, test acc: 82.83%, test acc ema: 83.53%\n",
      "Epoch: 280, xloss: 0.00008, training acc: 100.00%, test acc: 83.33%, test acc ema: 83.50%\n",
      "Epoch: 281, xloss: 0.00008, training acc: 100.00%, test acc: 82.90%, test acc ema: 83.47%\n",
      "Epoch: 282, xloss: 0.00008, training acc: 100.00%, test acc: 83.43%, test acc ema: 83.50%\n",
      "Epoch: 283, xloss: 0.00008, training acc: 100.00%, test acc: 83.53%, test acc ema: 83.47%\n",
      "Epoch: 284, xloss: 0.00008, training acc: 100.00%, test acc: 82.70%, test acc ema: 83.53%\n",
      "Epoch: 285, xloss: 0.00008, training acc: 100.00%, test acc: 82.87%, test acc ema: 83.50%\n",
      "Epoch: 286, xloss: 0.00008, training acc: 100.00%, test acc: 82.80%, test acc ema: 83.40%\n",
      "Epoch: 287, xloss: 0.00008, training acc: 100.00%, test acc: 83.13%, test acc ema: 83.27%\n",
      "Epoch: 288, xloss: 0.00007, training acc: 100.00%, test acc: 82.80%, test acc ema: 83.30%\n",
      "Epoch: 289, xloss: 0.00008, training acc: 100.00%, test acc: 82.33%, test acc ema: 83.37%\n",
      "Epoch: 290, xloss: 0.00007, training acc: 100.00%, test acc: 81.70%, test acc ema: 83.43%\n",
      "Epoch: 291, xloss: 0.00008, training acc: 100.00%, test acc: 82.33%, test acc ema: 83.50%\n",
      "Epoch: 292, xloss: 0.00008, training acc: 100.00%, test acc: 82.33%, test acc ema: 83.50%\n",
      "Epoch: 293, xloss: 0.00007, training acc: 100.00%, test acc: 82.63%, test acc ema: 83.43%\n",
      "Epoch: 294, xloss: 0.00007, training acc: 100.00%, test acc: 82.37%, test acc ema: 83.43%\n",
      "Epoch: 295, xloss: 0.00008, training acc: 100.00%, test acc: 82.57%, test acc ema: 83.43%\n",
      "Epoch: 296, xloss: 0.00007, training acc: 100.00%, test acc: 82.53%, test acc ema: 83.43%\n",
      "Epoch: 297, xloss: 0.00007, training acc: 100.00%, test acc: 81.77%, test acc ema: 83.40%\n",
      "Epoch: 298, xloss: 0.00008, training acc: 100.00%, test acc: 81.77%, test acc ema: 83.37%\n",
      "Epoch: 299, xloss: 0.00007, training acc: 100.00%, test acc: 82.13%, test acc ema: 83.30%\n",
      "\n"
     ]
    }
   ],
   "source": [
    "con_loss = []\n",
    "test_array = [];test_ema = []\n",
    "\n",
    "length_epoch = 1000\n",
    "nr_batch_train = length_epoch // params_dnn['batch']\n",
    "print(nr_batch_train)\n",
    "print(\"epoch length:\", length_epoch,\", batch size:\", params_dnn['batch'], \n",
    "      \", nr_batch_train:\",nr_batch_train, \", mc size:\", params['batch_size'],\",total grad iter:\",length_epoch * params_dnn['epoch'])\n",
    "for epoch in tqdm(range(300)):\n",
    "    train_acc=train_loss=test_acc=test_acc_ema=0\n",
    "    trainx = [];trainy = []\n",
    "    for t in range(int(np.ceil(length_epoch / float(txs.shape[0])))):  # same size lbl and unlb\n",
    "        inds = np.random.permutation(txs.shape[0])\n",
    "        trainx.append(txs[inds])\n",
    "        trainy.append(tys[inds])\n",
    "    trainx = np.concatenate(trainx, axis=0)\n",
    "    trainy = np.concatenate(trainy, axis=0)\n",
    "    trainx_unl = trainx_unl[rng.permutation(trainx_unl.shape[0])]  # shuffling unl dataset   \n",
    "#     print(trainx.shape)\n",
    "    for t in range(nr_batch_train):\n",
    "#         print(t)\n",
    "        ran_from = t * params_dnn['batch']\n",
    "        ran_to = (t + 1) * params_dnn['batch']\n",
    "        ran_from_mc = t * params['batch_size']\n",
    "        ran_to_mc = (t + 1) * params['batch_size']\n",
    "#         print(ran_from,ran_to)\n",
    "\n",
    "        xl,_,acc,con = sess.run([xloss,train_op,accuracy,manifold_loss],feed_dict={inp: trainx[ran_from:ran_to],\n",
    "                                                                 lbl: trainy[ran_from:ran_to],\n",
    "                                                                 unl: trainx_unl[ran_from_mc:ran_to_mc],\n",
    "                                                                 training_cnn:True,\n",
    "                                                                 is_training_pl:False})\n",
    "        train_acc += acc; train_loss += xl; \n",
    "        sess.run(maintain_averages_op)\n",
    "        con_loss.append(con)\n",
    "    train_acc /= nr_batch_train; train_loss /= nr_batch_train\n",
    "    \n",
    "    if epoch % 1 == 0:\n",
    "        for t in range(nr_batch_test):\n",
    "            ran_from = t * params_dnn['batch']\n",
    "            ran_to = (t + 1) * params_dnn['batch']\n",
    "            xl,acc, acc_ema = sess.run([xloss,accuracy, accuracy_ema],feed_dict={inp: testx[ran_from:ran_to],\n",
    "                                                                     lbl: testy[ran_from:ran_to],\n",
    "                                                                     training_cnn:False})\n",
    "            test_acc += acc; test_acc_ema += acc_ema\n",
    "        test_acc /= nr_batch_test; test_array.append(test_acc); test_acc_ema /= nr_batch_test; test_ema.append(test_acc_ema)\n",
    "        print(\"Epoch: {}, xloss: {:.5f}, training acc: {:.2f}%, test acc: {:.2f}%, test acc ema: {:.2f}%\".format(\n",
    "            epoch, train_loss, train_acc * 100,test_acc*100, test_acc_ema *100))\n"
   ]
  },
  {
   "cell_type": "code",
   "execution_count": 26,
   "metadata": {
    "ExecuteTime": {
     "end_time": "2018-05-11T11:58:29.808168Z",
     "start_time": "2018-05-11T11:58:29.801696Z"
    }
   },
   "outputs": [],
   "source": [
    "# acc_kl_gan = test_array\n",
    "# acc_vanilla = test_array\n",
    "# acc_con_unl = test_array\n",
    "# acc_con_unl_200 = test_array\n",
    "# unl= test_array\n",
    "# vanilla = test_array\n",
    "# ema = test_ema\n",
    "# manifold=test_array\n",
    "# manifold_ema=test_ema\n",
    "# mani_loss = con\n",
    "# m = test_array\n",
    "# gan_consist = test_array\n",
    "# gan_unl = test_array\n",
    "# manifold_ambient = test_array\n",
    "# mani_001 = test_array\n",
    "mani_0001_lr4 = test_array\n",
    "\n",
    "# vanille = test_array"
   ]
  },
  {
   "cell_type": "code",
   "execution_count": 27,
   "metadata": {
    "ExecuteTime": {
     "end_time": "2018-05-11T11:58:30.432405Z",
     "start_time": "2018-05-11T11:58:30.240081Z"
    }
   },
   "outputs": [
    {
     "data": {
      "text/plain": [
       "(0.8, 0.9)"
      ]
     },
     "execution_count": 27,
     "metadata": {},
     "output_type": "execute_result"
    },
    {
     "data": {
      "image/png": "[encoded data removed]",
      "text/plain": [
       "<Figure size 432x288 with 1 Axes>"
      ]
     },
     "metadata": {},
     "output_type": "display_data"
    }
   ],
   "source": [
    "# plt.plot(acc_kl_gan)\n",
    "# plt.plot(vanilla)\n",
    "# plt.plot(gan_ambiant)\n",
    "# plt.plot(acc_con_unl_200)\n",
    "# plt.plot(unl200)\n",
    "# plt.plot(gan200)\n",
    "# plt.plot(unl)\n",
    "# plt.plot(gan_consist)\n",
    "# plt.plot(mani_001)\n",
    "# plt.plot(mani_0005)\n",
    "# plt.plot(mani_0001)\n",
    "plt.plot(mani_0001_lr4)\n",
    "\n",
    "# plt.plot(vanille)\n",
    "plt.legend(['g0.001_e10_e1e-4','g0.0005_e10_1e-4','g0.0001_e_10lr1e-3','g0.0001_e_10lr1e-4'])\n",
    "plt.title('validation mnist')\n",
    "plt.ylim([0.80,0.90])"
   ]
  },
  {
   "cell_type": "code",
   "execution_count": 45,
   "metadata": {
    "ExecuteTime": {
     "end_time": "2018-05-11T09:39:23.839105Z",
     "start_time": "2018-05-11T09:39:23.537261Z"
    }
   },
   "outputs": [
    {
     "data": {
      "text/plain": [
       "(0.8, 0.9)"
      ]
     },
     "execution_count": 45,
     "metadata": {},
     "output_type": "execute_result"
    },
    {
     "data": {
      "image/png": "[encoded data removed]",
      "text/plain": [
       "<Figure size 432x288 with 1 Axes>"
      ]
     },
     "metadata": {},
     "output_type": "display_data"
    }
   ],
   "source": [
    "# plt.plot(acc_kl_gan)\n",
    "# plt.plot(vanilla)\n",
    "# plt.plot(gan_ambiant)\n",
    "# plt.plot(acc_con_unl_200)\n",
    "# plt.plot(unl200)\n",
    "# plt.plot(gan200)\n",
    "# plt.plot(unl)\n",
    "# plt.plot(gan_consist)\n",
    "plt.plot(mani_001)\n",
    "plt.plot(mani_0005)\n",
    "plt.plot(mani_0001)\n",
    "\n",
    "# plt.plot(vanille)\n",
    "plt.legend(['g0.001_e10_e1e-4','g0.0005_e10_1e-4','g0.0001_e_10lr1e-3'])\n",
    "plt.title('validation mnist')\n",
    "plt.ylim([0.80,0.90])"
   ]
  },
  {
   "cell_type": "code",
   "execution_count": null,
   "metadata": {
    "ExecuteTime": {
     "start_time": "2018-05-10T15:02:18.727Z"
    }
   },
   "outputs": [],
   "source": [
    "plt.plot(con_loss)\n",
    "plt.title('manifold loss')\n",
    "plt.show()"
   ]
  },
  {
   "cell_type": "code",
   "execution_count": null,
   "metadata": {
    "ExecuteTime": {
     "start_time": "2018-05-10T15:02:18.728Z"
    }
   },
   "outputs": [],
   "source": [
    "xx,yy=sess.run([samp_z1,samp_z2+pz],{is_training_pl:False})"
   ]
  },
  {
   "cell_type": "code",
   "execution_count": null,
   "metadata": {
    "ExecuteTime": {
     "start_time": "2018-05-10T15:02:18.729Z"
    }
   },
   "outputs": [],
   "source": [
    "for idx in range(10):\n",
    "    plt.subplot(1,2,1)\n",
    "    plt.imshow(np.squeeze(xx[idx]),cmap='gray',vmin=0,vmax=1)\n",
    "    plt.subplot(1,2,2)\n",
    "    plt.imshow(np.squeeze(yy[idx]),cmap='gray',vmin=0,vmax=1)\n",
    "    plt.show()"
   ]
  },
  {
   "cell_type": "code",
   "execution_count": null,
   "metadata": {
    "ExecuteTime": {
     "end_time": "2018-05-05T05:39:10.310319Z",
     "start_time": "2018-05-05T05:39:09.998173Z"
    }
   },
   "outputs": [],
   "source": []
  },
  {
   "cell_type": "code",
   "execution_count": null,
   "metadata": {
    "ExecuteTime": {
     "start_time": "2018-05-10T15:02:18.731Z"
    }
   },
   "outputs": [],
   "source": [
    "# plt.plot(acc_kl_gan)\n",
    "plt.plot(acc_vanilla)\n",
    "plt.plot(acc_con_unl_200)\n",
    "# plt.plot(unl200)\n",
    "plt.plot(gan200)\n",
    "plt.plot(gan_unl)\n",
    "# plt.plot(manifold_ambient)\n",
    "plt.plot(manifold)\n",
    "plt.legend(['vanilla','unlabeled ambient','gan ambient','(gan + unlabled) ambient',' gan manifold'])\n",
    "plt.title('regularization lenet5 (mnist 10 labels)')\n",
    "plt.xlabel('epoch')\n",
    "plt.ylim([0.77,0.82])"
   ]
  },
  {
   "cell_type": "code",
   "execution_count": null,
   "metadata": {
    "ExecuteTime": {
     "start_time": "2018-05-10T15:02:18.732Z"
    }
   },
   "outputs": [],
   "source": [
    "sess.run()"
   ]
  },
  {
   "cell_type": "code",
   "execution_count": null,
   "metadata": {
    "ExecuteTime": {
     "start_time": "2018-05-10T15:02:18.733Z"
    },
    "scrolled": true
   },
   "outputs": [],
   "source": [
    "sess.run(manifold,{training_cnn:False,is_training_pl:False})"
   ]
  },
  {
   "cell_type": "code",
   "execution_count": null,
   "metadata": {
    "ExecuteTime": {
     "start_time": "2018-05-10T15:02:18.734Z"
    }
   },
   "outputs": [],
   "source": [
    "plt.plot(con_loss)\n",
    "plt.title('manifold loss')\n",
    "plt.show()"
   ]
  },
  {
   "cell_type": "code",
   "execution_count": null,
   "metadata": {
    "ExecuteTime": {
     "start_time": "2018-05-10T15:02:18.735Z"
    }
   },
   "outputs": [],
   "source": [
    "nr_batch_train"
   ]
  },
  {
   "cell_type": "code",
   "execution_count": null,
   "metadata": {
    "ExecuteTime": {
     "start_time": "2018-05-10T15:02:18.737Z"
    }
   },
   "outputs": [],
   "source": [
    "np.asarray([7, 8, 2, 6, 4, 5, 1, 3, 0, 9])"
   ]
  },
  {
   "cell_type": "code",
   "execution_count": null,
   "metadata": {},
   "outputs": [],
   "source": []
  }
 ],
 "metadata": {
  "kernelspec": {
   "display_name": "Python [conda env:tf-1.4-env]",
   "language": "python",
   "name": "conda-env-tf-1.4-env-py"
  },
  "language_info": {
   "codemirror_mode": {
    "name": "ipython",
    "version": 3
   },
   "file_extension": ".py",
   "mimetype": "text/x-python",
   "name": "python",
   "nbconvert_exporter": "python",
   "pygments_lexer": "ipython3",
   "version": "3.6.5"
  },
  "varInspector": {
   "cols": {
    "lenName": 16,
    "lenType": 16,
    "lenVar": 40
   },
   "kernels_config": {
    "python": {
     "delete_cmd_postfix": "",
     "delete_cmd_prefix": "del ",
     "library": "var_list.py",
     "varRefreshCmd": "print(var_dic_list())"
    },
    "r": {
     "delete_cmd_postfix": ") ",
     "delete_cmd_prefix": "rm(",
     "library": "var_list.r",
     "varRefreshCmd": "cat(var_dic_list()) "
    }
   },
   "oldHeight": 299.181818,
   "position": {
    "height": "321px",
    "left": "24.9943px",
    "right": "20px",
    "top": "35.3977px",
    "width": "200px"
   },
   "types_to_exclude": [
    "module",
    "function",
    "builtin_function_or_method",
    "instance",
    "_Feature"
   ],
   "varInspector_section_display": "block",
   "window_display": true
  }
 },
 "nbformat": 4,
 "nbformat_minor": 2
}
