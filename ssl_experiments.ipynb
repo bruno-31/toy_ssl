{
 "cells": [
  {
   "cell_type": "code",
   "execution_count": 1,
   "metadata": {},
   "outputs": [
    {
     "name": "stdout",
     "output_type": "stream",
     "text": [
      "Populating the interactive namespace from numpy and matplotlib\n"
     ]
    },
    {
     "name": "stderr",
     "output_type": "stream",
     "text": [
      "/home/bruno/anaconda3/lib/python3.6/site-packages/h5py/__init__.py:36: FutureWarning: Conversion of the second argument of issubdtype from `float` to `np.floating` is deprecated. In future, it will be treated as `np.float64 == np.dtype(float).type`.\n",
      "  from ._conv import register_converters as _register_converters\n"
     ]
    }
   ],
   "source": [
    "% pylab inline\n",
    "import tensorflow as tf\n",
    "import numpy as np\n",
    "# import matplotlib.pyplot as plt\n",
    "# from tqdm import tqdm\n",
    "from tqdm import tqdm_notebook as tqdm\n",
    "\n",
    "\n",
    "from tensorflow.contrib.kfac.python.ops.utils import fwd_gradients\n",
    "import seaborn as sns\n",
    "\n",
    "slim = tf.contrib.slim\n",
    "ds = tf.contrib.distributions\n",
    "\n",
    "\n",
    "from functools import reduce\n",
    "from operator import mul\n",
    "\n",
    "\n",
    "import os\n",
    "os.environ[\"CUDA_VISIBLE_DEVICES\"]=\"0\"\n",
    "\n",
    "from sklearn.datasets import make_moons\n",
    "from sklearn.model_selection import train_test_split\n",
    "import utils\n"
   ]
  },
  {
   "cell_type": "code",
   "execution_count": 2,
   "metadata": {},
   "outputs": [
    {
     "data": {
      "application/javascript": [
       "IPython.OutputArea.prototype._should_scroll = function(lines) {\n",
       "    return false;\n",
       "}"
      ],
      "text/plain": [
       "<IPython.core.display.Javascript object>"
      ]
     },
     "metadata": {},
     "output_type": "display_data"
    }
   ],
   "source": [
    "%%javascript\n",
    "IPython.OutputArea.prototype._should_scroll = function(lines) {\n",
    "    return false;\n",
    "}"
   ]
  },
  {
   "cell_type": "code",
   "execution_count": 3,
   "metadata": {},
   "outputs": [
    {
     "data": {
      "application/javascript": [
       "require(\n",
       "        [\"notebook/js/outputarea\"],\n",
       "        function (oa) {\n",
       "            oa.OutputArea.auto_scroll_threshold = -1;\n",
       "            console.log(\"Setting auto_scroll_threshold to -1\");\n",
       "        });"
      ],
      "text/plain": [
       "<IPython.core.display.Javascript object>"
      ]
     },
     "metadata": {},
     "output_type": "display_data"
    }
   ],
   "source": [
    "%%javascript\n",
    "require(\n",
    "        [\"notebook/js/outputarea\"],\n",
    "        function (oa) {\n",
    "            oa.OutputArea.auto_scroll_threshold = -1;\n",
    "            console.log(\"Setting auto_scroll_threshold to -1\");\n",
    "        });"
   ]
  },
  {
   "cell_type": "markdown",
   "metadata": {},
   "source": [
    "\n",
    "## Hyperparameters"
   ]
  },
  {
   "cell_type": "code",
   "execution_count": 4,
   "metadata": {},
   "outputs": [],
   "source": [
    "params = dict(\n",
    "    batch_size=10,\n",
    "    unl_batch_size = 10,\n",
    "    learning_rate=3e-4,\n",
    "    beta1=0.5,\n",
    "    epoch=4000,\n",
    "    epsilon=1e-8,\n",
    "    max_iter=20000,\n",
    "    viz_every=2000,\n",
    "    z_dim=256,\n",
    "    x_dim=2,\n",
    "    optimizer='rmsprop', # rmsprop sgd sga\n",
    "    seed = 1224,\n",
    "    nabla = 0.00000,\n",
    "    l2_w = 0.,\n",
    "    inforeg_w = 0.\n",
    ")\n",
    "rng = np.random.RandomState(params['seed'])  # seed labels"
   ]
  },
  {
   "cell_type": "markdown",
   "metadata": {},
   "source": [
    "## Data Creation"
   ]
  },
  {
   "cell_type": "code",
   "execution_count": 5,
   "metadata": {},
   "outputs": [
    {
     "data": {
      "image/png": "[encoded data removed]",
      "text/plain": [
       "<matplotlib.figure.Figure at 0x7f08aa676c18>"
      ]
     },
     "metadata": {},
     "output_type": "display_data"
    }
   ],
   "source": [
    "labeled = 1\n",
    "x,y=make_moons(n_samples=4000, shuffle=True, noise=0., random_state=rng.randint(2**10))\n",
    "trainx, testx, trainy, testy = train_test_split(x, y, test_size=0.33, random_state=rng.randint(2**10))\n",
    "trainx_unl = trainx.copy()\n",
    "\n",
    "inds = rng.permutation(trainx.shape[0])\n",
    "trainx = trainx[inds]\n",
    "trainy = trainy[inds]\n",
    "txs = []\n",
    "tys = []\n",
    "for j in range(10):\n",
    "    txs.append(trainx[trainy == j][:labeled])\n",
    "    tys.append(trainy[trainy == j][:labeled])\n",
    "txs = np.concatenate(txs, axis=0)\n",
    "tys = np.concatenate(tys, axis=0)\n",
    "trainx = txs\n",
    "trainy = tys\n",
    "\n",
    "nr_batch_train = trainx.shape[0] // params['batch_size']\n",
    "nr_batch_test = testx.shape[0] // params['batch_size']\n",
    "\n",
    "utils.scatter_2_class(testx,testy,s=8)\n",
    "# utils.scatter_2_class(trainx_unl,np.ones(trainx_unl.shape[0]),s=1,c='k')\n",
    "utils.scatter_2_class(trainx,trainy,marker = 'D',s=100)\n",
    "plt.show()\n"
   ]
  },
  {
   "cell_type": "code",
   "execution_count": 6,
   "metadata": {},
   "outputs": [
    {
     "data": {
      "text/plain": [
       "132"
      ]
     },
     "execution_count": 6,
     "metadata": {},
     "output_type": "execute_result"
    }
   ],
   "source": [
    "nr_batch_test"
   ]
  },
  {
   "cell_type": "code",
   "execution_count": 7,
   "metadata": {},
   "outputs": [],
   "source": [
    "# def discriminator(x, n_hidden=384, n_layer=6, reuse=False):\n",
    "#     with tf.variable_scope(\"classifier\", reuse=reuse):\n",
    "#         h = slim.stack(x, slim.fully_connected, [n_hidden] * n_layer, activation_fn=tf.nn.relu)\n",
    "#         log_d = slim.fully_connected(h, 1, activation_fn=None,weights_regularizer=slim.l2_regularizer(0.1))\n",
    "#     return log_d"
   ]
  },
  {
   "cell_type": "code",
   "execution_count": 8,
   "metadata": {},
   "outputs": [],
   "source": [
    "def discriminator(x, n_hidden=30, n_layer=1, reuse=False):\n",
    "    with tf.variable_scope(\"classifier\", reuse=reuse):\n",
    "        h = slim.stack(x, slim.fully_connected, [n_hidden] * n_layer, activation_fn=tf.nn.relu)\n",
    "        log_d = slim.fully_connected(h, 1, activation_fn=None,weights_regularizer=slim.l2_regularizer(0.1))\n",
    "    return log_d"
   ]
  },
  {
   "cell_type": "markdown",
   "metadata": {},
   "source": [
    "## Build model"
   ]
  },
  {
   "cell_type": "code",
   "execution_count": 9,
   "metadata": {},
   "outputs": [],
   "source": [
    "tf.reset_default_graph()"
   ]
  },
  {
   "cell_type": "code",
   "execution_count": 10,
   "metadata": {},
   "outputs": [],
   "source": [
    "unl_dataset = tf.data.Dataset.from_tensor_slices(trainx_unl)\n",
    "unl_dataset = unl_dataset.shuffle(10000).repeat().batch(params['unl_batch_size'])\n",
    "\n",
    "train_dataset = tf.data.Dataset.from_tensor_slices((trainx, trainy))\n",
    "train_dataset = train_dataset.shuffle(10000).repeat().batch(params['batch_size'])\n",
    "\n",
    "test_dataset = tf.data.Dataset.from_tensor_slices((testx, testy))\n",
    "test_dataset = test_dataset.repeat().batch(params['batch_size'])\n",
    "\n",
    "iterator = tf.data.Iterator.from_structure(train_dataset.output_types,\n",
    "                                               train_dataset.output_shapes)\n",
    "next_element, next_label = iterator.get_next()\n",
    "training_init_op = iterator.make_initializer(train_dataset)\n",
    "validation_init_op = iterator.make_initializer(test_dataset)\n",
    "\n",
    "iterator_unl = unl_dataset.make_one_shot_iterator()\n",
    "next_unl = iterator_unl.get_next()"
   ]
  },
  {
   "cell_type": "code",
   "execution_count": 11,
   "metadata": {},
   "outputs": [
    {
     "name": "stdout",
     "output_type": "stream",
     "text": [
      "Tensor(\"Sqrt_1:0\", shape=(?,), dtype=float64)\n"
     ]
    }
   ],
   "source": [
    "with slim.arg_scope([slim.fully_connected], weights_initializer=tf.orthogonal_initializer(gain=1.2)):\n",
    "    logits = tf.squeeze(discriminator(next_element))\n",
    "    logits_unl = tf.squeeze(discriminator(next_unl,reuse = True))\n",
    "\n",
    "# delta = tf.random_normal([params['unl_batch_size'],2], mean=0, stddev=0.1,dtype=tf.float64)\n",
    "# x_delta = next_unl+delta \n",
    "# logits_unl_delta = tf.squeeze(discriminator(x_delta,reuse = True))\n",
    "\n",
    "# add nabla penalty\n",
    "jacob_norm = tf.reduce_sum(tf.square(tf.gradients(logits_unl,next_unl)),axis=[0,2])\n",
    "j_loss = tf.reduce_mean(jacob_norm)\n",
    "_l2 = tf.losses.get_regularization_losses()\n",
    "\n",
    "#inforeg \n",
    "def l2_norm (x,axis,epsilon=1e-8):\n",
    "    return tf.sqrt(epsilon+tf.reduce_sum(tf.square(x),axis=axis))\n",
    "\n",
    "# im = tf.placeholder(shape=[None, 2])\n",
    "soft_pred = tf.nn.softmax(logits)\n",
    "nablax = tf.gradients(soft_pred,next_element)[0]\n",
    "inforeg = tf.divide(l2_norm(nablax,axis=1),tf.multiply(soft_pred,1-soft_pred))\n",
    "print(l2_norm(nablax,axis=1))\n",
    "# jacob_norm = tf.square(tf.nn.softmax(logits_unl) - tf.nn.softmax(logits_unl_delta))\n",
    "# j_loss = tf.reduce_mean(jacob_norm)\n",
    "\n",
    "xloss = tf.reduce_mean(\n",
    "    tf.nn.sigmoid_cross_entropy_with_logits(logits=logits, labels=tf.cast(next_label,tf.float64))) \n",
    "\n",
    "loss = xloss + params['nabla'] * j_loss + params['l2_w']* _l2[0] + params['inforeg_w'] * inforeg\n",
    "\n",
    "optimizer = tf.train.RMSPropOptimizer(params['learning_rate'])\n",
    "train_op = optimizer.minimize(loss)\n",
    "\n",
    "accuracy = utils.accuracy(logits,next_label)\n",
    "prediction = utils.prediction(logits)"
   ]
  },
  {
   "cell_type": "code",
   "execution_count": 12,
   "metadata": {},
   "outputs": [],
   "source": [
    "sess = tf.InteractiveSession()\n",
    "sess.run(tf.global_variables_initializer())"
   ]
  },
  {
   "cell_type": "code",
   "execution_count": 13,
   "metadata": {},
   "outputs": [
    {
     "data": {
      "application/vnd.jupyter.widget-view+json": {
       "model_id": "e7c93ba5f3ac499e97709fee71ac2c43"
      }
     },
     "metadata": {},
     "output_type": "display_data"
    },
    {
     "name": "stdout",
     "output_type": "stream",
     "text": [
      "Epoch: 0, loss: 0.67667, training accuracy: 100.00%\n",
      "Average validation set accuracy over 132 iterations is 70.23%\n",
      "Epoch: 100, loss: 0.61564, training accuracy: 100.00%\n",
      "Epoch: 200, loss: 0.54909, training accuracy: 100.00%\n",
      "Average validation set accuracy over 132 iterations is 74.32%\n",
      "Epoch: 300, loss: 0.48476, training accuracy: 100.00%\n",
      "Epoch: 400, loss: 0.42105, training accuracy: 100.00%\n",
      "Average validation set accuracy over 132 iterations is 77.58%\n",
      "Epoch: 500, loss: 0.35905, training accuracy: 100.00%\n",
      "Epoch: 600, loss: 0.30138, training accuracy: 100.00%\n",
      "Average validation set accuracy over 132 iterations is 79.09%\n",
      "Epoch: 700, loss: 0.24704, training accuracy: 100.00%\n",
      "Epoch: 800, loss: 0.19764, training accuracy: 100.00%\n",
      "Average validation set accuracy over 132 iterations is 79.92%\n",
      "Epoch: 900, loss: 0.15428, training accuracy: 100.00%\n",
      "Epoch: 1000, loss: 0.11750, training accuracy: 100.00%\n",
      "Average validation set accuracy over 132 iterations is 80.30%\n",
      "Epoch: 1100, loss: 0.08733, training accuracy: 100.00%\n",
      "Epoch: 1200, loss: 0.06338, training accuracy: 100.00%\n",
      "Average validation set accuracy over 132 iterations is 80.61%\n",
      "Epoch: 1300, loss: 0.04493, training accuracy: 100.00%\n",
      "Epoch: 1400, loss: 0.03112, training accuracy: 100.00%\n",
      "Average validation set accuracy over 132 iterations is 80.45%\n",
      "Epoch: 1500, loss: 0.02109, training accuracy: 100.00%\n",
      "Epoch: 1600, loss: 0.01398, training accuracy: 100.00%\n",
      "Average validation set accuracy over 132 iterations is 80.68%\n",
      "Epoch: 1700, loss: 0.00907, training accuracy: 100.00%\n",
      "Epoch: 1800, loss: 0.00577, training accuracy: 100.00%\n",
      "Average validation set accuracy over 132 iterations is 80.68%\n",
      "Epoch: 1900, loss: 0.00359, training accuracy: 100.00%\n",
      "Epoch: 2000, loss: 0.00219, training accuracy: 100.00%\n",
      "Average validation set accuracy over 132 iterations is 80.68%\n",
      "Epoch: 2100, loss: 0.00131, training accuracy: 100.00%\n",
      "Epoch: 2200, loss: 0.00077, training accuracy: 100.00%\n",
      "Average validation set accuracy over 132 iterations is 80.53%\n",
      "Epoch: 2300, loss: 0.00044, training accuracy: 100.00%\n",
      "Epoch: 2400, loss: 0.00025, training accuracy: 100.00%\n",
      "Average validation set accuracy over 132 iterations is 80.45%\n",
      "Epoch: 2500, loss: 0.00014, training accuracy: 100.00%\n",
      "Epoch: 2600, loss: 0.00008, training accuracy: 100.00%\n",
      "Average validation set accuracy over 132 iterations is 80.53%\n",
      "Epoch: 2700, loss: 0.00004, training accuracy: 100.00%\n",
      "Epoch: 2800, loss: 0.00002, training accuracy: 100.00%\n",
      "Average validation set accuracy over 132 iterations is 80.53%\n",
      "Epoch: 2900, loss: 0.00001, training accuracy: 100.00%\n",
      "Epoch: 3000, loss: 0.00001, training accuracy: 100.00%\n",
      "Average validation set accuracy over 132 iterations is 80.45%\n",
      "Epoch: 3100, loss: 0.00000, training accuracy: 100.00%\n",
      "Epoch: 3200, loss: 0.00000, training accuracy: 100.00%\n",
      "Average validation set accuracy over 132 iterations is 80.53%\n",
      "Epoch: 3300, loss: 0.00000, training accuracy: 100.00%\n",
      "Epoch: 3400, loss: 0.00000, training accuracy: 100.00%\n",
      "Average validation set accuracy over 132 iterations is 80.76%\n",
      "Epoch: 3500, loss: 0.00000, training accuracy: 100.00%\n",
      "Epoch: 3600, loss: 0.00000, training accuracy: 100.00%\n",
      "Average validation set accuracy over 132 iterations is 80.61%\n",
      "Epoch: 3700, loss: 0.00000, training accuracy: 100.00%\n",
      "Epoch: 3800, loss: 0.00000, training accuracy: 100.00%\n",
      "Average validation set accuracy over 132 iterations is 80.61%\n",
      "Epoch: 3900, loss: 0.00000, training accuracy: 100.00%\n",
      "\n"
     ]
    }
   ],
   "source": [
    "xls=[]; jls =[]\n",
    "reg = []\n",
    "sess.run(training_init_op)\n",
    "for i in tqdm(range(params['epoch'])):\n",
    "    xl,jl, _, acc,l2 = sess.run([xloss, j_loss, train_op, accuracy,_l2])\n",
    "    xls.append(xl); jls.append(jl); reg.append(l2)\n",
    "    if i % 100 == 0:\n",
    "        print(\"Epoch: {}, loss: {:.5f}, training accuracy: {:.2f}%\".format(i, xl, acc * 100))\n",
    "\n",
    "    if i % 200 == 0:\n",
    "        sess.run(validation_init_op)\n",
    "        avg_acc = 0; pred = []; valid_iters = nr_batch_test; nabla_datapoint = []\n",
    "        deltax = []\n",
    "        for i in range(valid_iters):\n",
    "            acc,p,dl = sess.run([accuracy,prediction,jacob_norm])\n",
    "            avg_acc += acc\n",
    "            pred.append(p); nabla_datapoint.append(dl)\n",
    "        print(\"Average validation set accuracy over {} iterations is {:.2f}%\".format(valid_iters,(avg_acc / valid_iters) * 100))\n",
    "        pred = np.concatenate(pred); _nabla = np.concatenate(nabla_datapoint)\n",
    "        sess.run(training_init_op)\n"
   ]
  },
  {
   "cell_type": "code",
   "execution_count": 14,
   "metadata": {},
   "outputs": [
    {
     "name": "stderr",
     "output_type": "stream",
     "text": [
      "/home/bruno/anaconda3/lib/python3.6/site-packages/matplotlib/legend.py:590: UserWarning: The handle <matplotlib.collections.PathCollection object at 0x7f089f0ff128> has a label of '_' which cannot be automatically added to the legend.\n",
      "  'legend.'.format(handle, label))\n",
      "/home/bruno/anaconda3/lib/python3.6/site-packages/matplotlib/legend.py:590: UserWarning: The handle <matplotlib.collections.PathCollection object at 0x7f089f0ff400> has a label of '_' which cannot be automatically added to the legend.\n",
      "  'legend.'.format(handle, label))\n"
     ]
    },
    {
     "data": {
      "image/png": "[encoded data removed]",
      "text/plain": [
       "<matplotlib.figure.Figure at 0x7f08aa66a2e8>"
      ]
     },
     "metadata": {},
     "output_type": "display_data"
    }
   ],
   "source": [
    "plt.figure(1,figsize=(18,5))\n",
    "plt.subplot(131)\n",
    "utils.scatter_2_class(testx,pred,s=8)\n",
    "utils.scatter_2_class(trainx,trainy, marker='D',s=100)\n",
    "plt.legend(['_','_','labeled datapoint'])\n",
    "plt.subplot(132)\n",
    "plt.scatter(testx[:,0],testx[:,1], s=30, c=_nabla, alpha=1.,cmap='Reds',norm=None,vmin=0, vmax=500,linewidths=0.1,edgecolors='b')\n",
    "plt.colorbar()\n",
    "# plt.title('nabla loss')\n",
    "plt.legend(['nabla loss'])\n",
    "plt.subplot(133)                      \n",
    "plt.plot(xls)\n",
    "plt.plot(jls)\n",
    "plt.plot(reg)\n",
    "# plt.ylim([10^-2,10^(-3)])\n",
    "xlabel('epochs')\n",
    "plt.legend(['xentropy loss', 'nabla loss'])\n",
    "\n",
    "plt.show()"
   ]
  },
  {
   "cell_type": "code",
   "execution_count": 15,
   "metadata": {},
   "outputs": [
    {
     "ename": "TypeError",
     "evalue": "list indices must be integers or slices, not tuple",
     "output_type": "error",
     "traceback": [
      "\u001b[0;31m---------------------------------------------------------------------------\u001b[0m",
      "\u001b[0;31mTypeError\u001b[0m                                 Traceback (most recent call last)",
      "\u001b[0;32m<ipython-input-15-386e95895b03>\u001b[0m in \u001b[0;36m<module>\u001b[0;34m()\u001b[0m\n\u001b[1;32m      1\u001b[0m \u001b[0;31m# utils.scatter_2_class(testx,pred,s=8)\u001b[0m\u001b[0;34m\u001b[0m\u001b[0;34m\u001b[0m\u001b[0m\n\u001b[0;32m----> 2\u001b[0;31m \u001b[0mutils\u001b[0m\u001b[0;34m.\u001b[0m\u001b[0mscatter_2_class\u001b[0m\u001b[0;34m(\u001b[0m\u001b[0mdeltax\u001b[0m\u001b[0;34m,\u001b[0m\u001b[0mpred\u001b[0m\u001b[0;34m,\u001b[0m\u001b[0ms\u001b[0m\u001b[0;34m=\u001b[0m\u001b[0;36m8\u001b[0m\u001b[0;34m)\u001b[0m\u001b[0;34m\u001b[0m\u001b[0m\n\u001b[0m\u001b[1;32m      3\u001b[0m \u001b[0mplt\u001b[0m\u001b[0;34m.\u001b[0m\u001b[0mshow\u001b[0m\u001b[0;34m(\u001b[0m\u001b[0;34m)\u001b[0m\u001b[0;34m\u001b[0m\u001b[0m\n",
      "\u001b[0;32m~/toy_ssl/utils.py\u001b[0m in \u001b[0;36mscatter_2_class\u001b[0;34m(testx, pred, **kwargs)\u001b[0m\n\u001b[1;32m     16\u001b[0m \u001b[0;34m\u001b[0m\u001b[0m\n\u001b[1;32m     17\u001b[0m \u001b[0;32mdef\u001b[0m \u001b[0mscatter_2_class\u001b[0m\u001b[0;34m(\u001b[0m\u001b[0mtestx\u001b[0m\u001b[0;34m,\u001b[0m\u001b[0mpred\u001b[0m\u001b[0;34m,\u001b[0m\u001b[0;34m**\u001b[0m\u001b[0mkwargs\u001b[0m\u001b[0;34m)\u001b[0m\u001b[0;34m:\u001b[0m\u001b[0;34m\u001b[0m\u001b[0m\n\u001b[0;32m---> 18\u001b[0;31m     \u001b[0mplt\u001b[0m\u001b[0;34m.\u001b[0m\u001b[0mscatter\u001b[0m\u001b[0;34m(\u001b[0m\u001b[0mtestx\u001b[0m\u001b[0;34m[\u001b[0m\u001b[0;34m:\u001b[0m\u001b[0;34m,\u001b[0m\u001b[0;36m0\u001b[0m\u001b[0;34m]\u001b[0m\u001b[0;34m[\u001b[0m\u001b[0mpred\u001b[0m\u001b[0;34m==\u001b[0m\u001b[0;36m0\u001b[0m\u001b[0;34m]\u001b[0m\u001b[0;34m,\u001b[0m\u001b[0mtestx\u001b[0m\u001b[0;34m[\u001b[0m\u001b[0;34m:\u001b[0m\u001b[0;34m,\u001b[0m\u001b[0;36m1\u001b[0m\u001b[0;34m]\u001b[0m\u001b[0;34m[\u001b[0m\u001b[0mpred\u001b[0m\u001b[0;34m==\u001b[0m\u001b[0;36m0\u001b[0m\u001b[0;34m]\u001b[0m\u001b[0;34m,\u001b[0m\u001b[0;34m**\u001b[0m\u001b[0mkwargs\u001b[0m\u001b[0;34m)\u001b[0m\u001b[0;34m\u001b[0m\u001b[0m\n\u001b[0m\u001b[1;32m     19\u001b[0m     \u001b[0mplt\u001b[0m\u001b[0;34m.\u001b[0m\u001b[0mscatter\u001b[0m\u001b[0;34m(\u001b[0m\u001b[0mtestx\u001b[0m\u001b[0;34m[\u001b[0m\u001b[0;34m:\u001b[0m\u001b[0;34m,\u001b[0m\u001b[0;36m0\u001b[0m\u001b[0;34m]\u001b[0m\u001b[0;34m[\u001b[0m\u001b[0mpred\u001b[0m\u001b[0;34m==\u001b[0m\u001b[0;36m1\u001b[0m\u001b[0;34m]\u001b[0m\u001b[0;34m,\u001b[0m\u001b[0mtestx\u001b[0m\u001b[0;34m[\u001b[0m\u001b[0;34m:\u001b[0m\u001b[0;34m,\u001b[0m\u001b[0;36m1\u001b[0m\u001b[0;34m]\u001b[0m\u001b[0;34m[\u001b[0m\u001b[0mpred\u001b[0m\u001b[0;34m==\u001b[0m\u001b[0;36m1\u001b[0m\u001b[0;34m]\u001b[0m\u001b[0;34m,\u001b[0m \u001b[0;34m**\u001b[0m\u001b[0mkwargs\u001b[0m\u001b[0;34m)\u001b[0m\u001b[0;34m\u001b[0m\u001b[0m\n\u001b[1;32m     20\u001b[0m \u001b[0;34m\u001b[0m\u001b[0m\n",
      "\u001b[0;31mTypeError\u001b[0m: list indices must be integers or slices, not tuple"
     ]
    }
   ],
   "source": [
    "# utils.scatter_2_class(testx,pred,s=8)\n",
    "utils.scatter_2_class(deltax,pred,s=8)\n",
    "plt.show()"
   ]
  },
  {
   "cell_type": "code",
   "execution_count": null,
   "metadata": {},
   "outputs": [],
   "source": []
  }
 ],
 "metadata": {
  "kernelspec": {
   "display_name": "Python 3",
   "language": "python",
   "name": "python3"
  },
  "language_info": {
   "codemirror_mode": {
    "name": "ipython",
    "version": 3
   },
   "file_extension": ".py",
   "mimetype": "text/x-python",
   "name": "python",
   "nbconvert_exporter": "python",
   "pygments_lexer": "ipython3",
   "version": "3.6.4"
  },
  "varInspector": {
   "cols": {
    "lenName": 16,
    "lenType": 16,
    "lenVar": 40
   },
   "kernels_config": {
    "python": {
     "delete_cmd_postfix": "",
     "delete_cmd_prefix": "del ",
     "library": "var_list.py",
     "varRefreshCmd": "print(var_dic_list())"
    },
    "r": {
     "delete_cmd_postfix": ") ",
     "delete_cmd_prefix": "rm(",
     "library": "var_list.r",
     "varRefreshCmd": "cat(var_dic_list()) "
    }
   },
   "types_to_exclude": [
    "module",
    "function",
    "builtin_function_or_method",
    "instance",
    "_Feature"
   ],
   "window_display": false
  }
 },
 "nbformat": 4,
 "nbformat_minor": 2
}
