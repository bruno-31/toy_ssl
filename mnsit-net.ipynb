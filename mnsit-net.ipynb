{
 "cells": [
  {
   "cell_type": "code",
   "execution_count": 11,
   "metadata": {},
   "outputs": [],
   "source": [
    "import tensorflow as tf\n",
    "import numpy as np\n",
    "from tensorflow.examples.tutorials.mnist import input_data\n",
    "from utils import *\n",
    "slim = tf.contrib.slim\n",
    "from tqdm import tqdm_notebook as tqdm\n",
    "import os \n",
    "os.environ[\"CUDA_VISIBLE_DEVICES\"]=\"\"\n",
    "from mnist_model import generator,discriminator\n",
    "import utils"
   ]
  },
  {
   "cell_type": "code",
   "execution_count": 12,
   "metadata": {},
   "outputs": [],
   "source": [
    "params = dict(\n",
    "    batch_size = 100,\n",
    "    seed = 1234,\n",
    "    z_dim = 100,\n",
    "    x_dim = 784,\n",
    "    reg_w = 0.,\n",
    "    lr = 2e-4\n",
    ")\n",
    "rng = np.random.RandomState(params['seed'])  # seed labels"
   ]
  },
  {
   "cell_type": "code",
   "execution_count": 13,
   "metadata": {},
   "outputs": [
    {
     "name": "stdout",
     "output_type": "stream",
     "text": [
      "Extracting MNIST_data/train-images-idx3-ubyte.gz\n",
      "Extracting MNIST_data/train-labels-idx1-ubyte.gz\n",
      "Extracting MNIST_data/t10k-images-idx3-ubyte.gz\n",
      "Extracting MNIST_data/t10k-labels-idx1-ubyte.gz\n"
     ]
    },
    {
     "data": {
      "text/plain": [
       "array([7, 3, 4, ..., 2, 1, 2], dtype=int32)"
      ]
     },
     "execution_count": 13,
     "metadata": {},
     "output_type": "execute_result"
    }
   ],
   "source": [
    "mnist = input_data.read_data_sets(\"MNIST_data/\", one_hot=False)\n",
    "trainx = np.vstack([mnist.train.images,mnist.validation.images])\n",
    "trainy = np.hstack([mnist.train.labels,mnist.validation.labels])\n",
    "testx = mnist.test.images\n",
    "testy = mnist.test.labels\n",
    "# trainx = 2.*trainx-1.\n",
    "trainx = np.reshape(trainx,[-1,28,28,1])\n",
    "testx = np.reshape(testx,[-1,28,28,1])\n",
    "testy.astype(np.int32)\n",
    "trainy.astype(np.int32)"
   ]
  },
  {
   "cell_type": "code",
   "execution_count": 14,
   "metadata": {},
   "outputs": [
    {
     "data": {
      "image/png": "[encoded data removed]",
      "text/plain": [
       "<Figure size 432x288 with 1 Axes>"
      ]
     },
     "metadata": {},
     "output_type": "display_data"
    }
   ],
   "source": [
    "labeled =10\n",
    "trainx_unl = trainx.copy()\n",
    "inds = np.random.permutation(trainx.shape[0])\n",
    "trainx = trainx[inds]\n",
    "trainy = trainy[inds]\n",
    "txs = []\n",
    "tys = []\n",
    "for j in range(10):\n",
    "    txs.append(trainx[trainy == j][:labeled])\n",
    "    tys.append(trainy[trainy == j][:labeled])\n",
    "txs = np.concatenate(txs, axis=0)\n",
    "tys = np.concatenate(tys, axis=0)\n",
    "trainx = txs\n",
    "trainy = tys\n",
    "\n",
    "nr_batch_train = trainx.shape[0] // params['batch_size']\n",
    "nr_batch_test = testx.shape[0] // params['batch_size']\n",
    "\n",
    "show_digits(trainx[:1000])\n",
    "plt.show()"
   ]
  },
  {
   "cell_type": "code",
   "execution_count": 15,
   "metadata": {},
   "outputs": [],
   "source": [
    "train_dataset = tf.data.Dataset.from_tensor_slices((trainx, trainy))\n",
    "train_dataset = train_dataset.shuffle(10000).repeat().batch(params['batch_size'])\n",
    "\n",
    "test_dataset = tf.data.Dataset.from_tensor_slices((testx, testy))\n",
    "test_dataset = test_dataset.repeat().batch(params['batch_size'])\n",
    "\n",
    "iterator = tf.data.Iterator.from_structure(train_dataset.output_types,\n",
    "                                               train_dataset.output_shapes)\n",
    "next_element, next_label = iterator.get_next()\n",
    "train_triger= iterator.make_initializer(train_dataset)\n",
    "test_triger= iterator.make_initializer(test_dataset)"
   ]
  },
  {
   "cell_type": "code",
   "execution_count": 16,
   "metadata": {},
   "outputs": [],
   "source": [
    "def lenet(x,training_pl):\n",
    "    with tf.variable_scope(\"classifier\", reuse=tf.AUTO_REUSE):\n",
    "        x = tf.reshape(x,[-1,28,28,1])\n",
    "        x = tf.layers.conv2d(x,32,5,activation=tf.nn.relu,padding='same')\n",
    "        x = tf.layers.max_pooling2d(x,2,2)\n",
    "        x = tf.layers.conv2d(x,64,5,activation=tf.nn.relu,padding='same')\n",
    "        x = tf.layers.max_pooling2d(x,2,2)\n",
    "        x = tf.layers.flatten(x)\n",
    "        x = tf.layers.dense(x,1024,activation=tf.nn.relu)\n",
    "        x = tf.layers.dropout(x,rate=0.4,training=training_pl)\n",
    "        x = tf.layers.dense(x,10)\n",
    "        return x"
   ]
  },
  {
   "cell_type": "code",
   "execution_count": 17,
   "metadata": {},
   "outputs": [
    {
     "data": {
      "text/plain": [
       "<tf.Tensor 'IteratorGetNext_1:1' shape=(?,) dtype=uint8>"
      ]
     },
     "execution_count": 17,
     "metadata": {},
     "output_type": "execute_result"
    }
   ],
   "source": [
    "next_label"
   ]
  },
  {
   "cell_type": "code",
   "execution_count": 18,
   "metadata": {},
   "outputs": [],
   "source": [
    "label = tf.cast(next_label,tf.int64)\n",
    "training_pl  = tf.placeholder(tf.bool,[])\n",
    "logits = lenet(next_element,training_pl)\n",
    "xloss = tf.losses.sparse_softmax_cross_entropy(logits=logits,labels=label)\n",
    "optimizer = tf.train.AdamOptimizer()\n",
    "train_op = optimizer.minimize(xloss)\n",
    "\n",
    "correct_prediction = tf.equal(tf.argmax(logits,1),label)\n",
    "accuracy = tf.reduce_mean(tf.cast(correct_prediction, tf.float32))\n"
   ]
  },
  {
   "cell_type": "code",
   "execution_count": 25,
   "metadata": {},
   "outputs": [],
   "source": [
    "sess = tf.InteractiveSession()\n",
    "sess.run(tf.global_variables_initializer())"
   ]
  },
  {
   "cell_type": "code",
   "execution_count": 26,
   "metadata": {},
   "outputs": [
    {
     "name": "stdout",
     "output_type": "stream",
     "text": [
      "Step: 0, xloss: 2.31351, training acc: 9.00%, test acc: 39.97%\n",
      "Step: 1000, xloss: 0.00000, training acc: 100.00%, test acc: 84.38%\n",
      "Step: 2000, xloss: 0.00000, training acc: 100.00%, test acc: 84.26%\n",
      "Step: 3000, xloss: 0.00000, training acc: 100.00%, test acc: 85.94%\n",
      "Step: 4000, xloss: 0.00000, training acc: 100.00%, test acc: 86.14%\n",
      "Step: 5000, xloss: 0.00000, training acc: 100.00%, test acc: 86.27%\n",
      "Step: 6000, xloss: 0.00000, training acc: 100.00%, test acc: 86.49%\n",
      "Step: 7000, xloss: 0.00000, training acc: 100.00%, test acc: 86.55%\n",
      "Step: 8000, xloss: 0.00000, training acc: 100.00%, test acc: 86.73%\n"
     ]
    }
   ],
   "source": [
    "sess.run(train_triger)\n",
    "for i in range(8001):\n",
    "    xl,_,acc = sess.run([xloss,train_op,accuracy],feed_dict={training_pl:True})\n",
    "    if i % 1000 == 0:\n",
    "        sess.run(test_triger)\n",
    "        test_acc = 0\n",
    "        for n in range(nr_batch_test):\n",
    "            test_acc  += sess.run(accuracy,feed_dict={training_pl:False})\n",
    "        test_acc /= nr_batch_test\n",
    "        print(\"Step: {}, xloss: {:.5f}, training acc: {:.2f}%, test acc: {:.2f}%\".format(i, xl, acc * 100,test_acc*100))\n",
    "        sess.run(train_triger)\n",
    "\n"
   ]
  },
  {
   "cell_type": "code",
   "execution_count": null,
   "metadata": {},
   "outputs": [],
   "source": []
  }
 ],
 "metadata": {
  "kernelspec": {
   "display_name": "Python [conda env:tensorflow]",
   "language": "python",
   "name": "conda-env-tensorflow-py"
  },
  "language_info": {
   "codemirror_mode": {
    "name": "ipython",
    "version": 3
   },
   "file_extension": ".py",
   "mimetype": "text/x-python",
   "name": "python",
   "nbconvert_exporter": "python",
   "pygments_lexer": "ipython3",
   "version": "3.5.4"
  }
 },
 "nbformat": 4,
 "nbformat_minor": 2
}
