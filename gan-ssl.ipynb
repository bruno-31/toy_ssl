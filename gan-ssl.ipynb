{
 "cells": [
  {
   "cell_type": "code",
   "execution_count": 1,
   "metadata": {
    "ExecuteTime": {
     "end_time": "2018-04-23T11:24:55.194536Z",
     "start_time": "2018-04-23T11:24:51.799751Z"
    },
    "nbpresent": {
     "id": "bcc0d131-986e-4a82-9852-14232780b331"
    }
   },
   "outputs": [
    {
     "name": "stderr",
     "output_type": "stream",
     "text": [
      "/home/data/bruno/anaconda3/envs/tf-1.4-env/lib/python3.6/importlib/_bootstrap.py:219: RuntimeWarning: compiletime version 3.5 of module 'tensorflow.python.framework.fast_tensor_util' does not match runtime version 3.6\n",
      "  return f(*args, **kwds)\n"
     ]
    }
   ],
   "source": [
    "import tensorflow as tf\n",
    "import numpy as np\n",
    "import matplotlib.pyplot as plt\n",
    "# from tqdm import tqdm\n",
    "from tqdm import tqdm_notebook as tqdm\n",
    "\n",
    "\n",
    "# from tensorflow.contrib.kfac.python.ops.utils import fwd_gradients\n",
    "import seaborn as sns\n",
    "\n",
    "slim = tf.contrib.slim\n",
    "ds = tf.contrib.distributions\n",
    "\n",
    "\n",
    "from functools import reduce\n",
    "from operator import mul\n",
    "\n",
    "\n",
    "import os\n",
    "os.environ[\"CUDA_VISIBLE_DEVICES\"]=\"1\"\n",
    "\n",
    "from sklearn.datasets import make_moons\n",
    "from sklearn.model_selection import train_test_split\n",
    "import utils\n",
    "ds = tf.contrib.distributions\n"
   ]
  },
  {
   "cell_type": "code",
   "execution_count": 2,
   "metadata": {
    "ExecuteTime": {
     "end_time": "2018-04-23T11:24:55.216066Z",
     "start_time": "2018-04-23T11:24:55.205949Z"
    },
    "nbpresent": {
     "id": "38e6eae7-106b-44eb-8f5e-42685ca87232"
    }
   },
   "outputs": [
    {
     "data": {
      "application/javascript": [
       "IPython.OutputArea.prototype._should_scroll = function(lines) {\n",
       "    return false;\n",
       "}"
      ],
      "text/plain": [
       "<IPython.core.display.Javascript object>"
      ]
     },
     "metadata": {},
     "output_type": "display_data"
    }
   ],
   "source": [
    "%%javascript\n",
    "IPython.OutputArea.prototype._should_scroll = function(lines) {\n",
    "    return false;\n",
    "}"
   ]
  },
  {
   "cell_type": "code",
   "execution_count": 3,
   "metadata": {
    "ExecuteTime": {
     "end_time": "2018-04-23T11:24:55.226022Z",
     "start_time": "2018-04-23T11:24:55.219129Z"
    },
    "nbpresent": {
     "id": "9abab849-008c-4601-b041-c364abab826e"
    }
   },
   "outputs": [
    {
     "data": {
      "application/javascript": [
       "require(\n",
       "        [\"notebook/js/outputarea\"],\n",
       "        function (oa) {\n",
       "            oa.OutputArea.auto_scroll_threshold = -1;\n",
       "            console.log(\"Setting auto_scroll_threshold to -1\");\n",
       "        });"
      ],
      "text/plain": [
       "<IPython.core.display.Javascript object>"
      ]
     },
     "metadata": {},
     "output_type": "display_data"
    }
   ],
   "source": [
    "%%javascript\n",
    "require(\n",
    "        [\"notebook/js/outputarea\"],\n",
    "        function (oa) {\n",
    "            oa.OutputArea.auto_scroll_threshold = -1;\n",
    "            console.log(\"Setting auto_scroll_threshold to -1\");\n",
    "        });"
   ]
  },
  {
   "cell_type": "markdown",
   "metadata": {
    "nbpresent": {
     "id": "800ce027-e4a7-4d2a-ac2f-5868da72dd2a"
    }
   },
   "source": [
    "\n",
    "## Hyperparameters"
   ]
  },
  {
   "cell_type": "code",
   "execution_count": 4,
   "metadata": {
    "ExecuteTime": {
     "end_time": "2018-04-23T11:24:55.238150Z",
     "start_time": "2018-04-23T11:24:55.229207Z"
    },
    "nbpresent": {
     "id": "f89643bd-aade-4a42-a469-8fafc5f472a9"
    }
   },
   "outputs": [],
   "source": [
    "params = dict(\n",
    "    batch_size=256,\n",
    "    unl_batch_size = 256,\n",
    "    learning_rate=3e-4,\n",
    "    beta1=0.5,\n",
    "    epoch=1200,\n",
    "    epsilon=1e-8,\n",
    "    max_iter=20000,\n",
    "    viz_every=1000,\n",
    "    z_dim=128,\n",
    "    x_dim=2,\n",
    "    optimizer='rmsprop', # rmsprop sgd sga\n",
    "    seed = 122524,\n",
    "    nabla = 0,\n",
    "    reg_w = 10. \n",
    ")\n",
    "rng = np.random.RandomState(params['seed'])  # seed labels"
   ]
  },
  {
   "cell_type": "markdown",
   "metadata": {
    "nbpresent": {
     "id": "0a9b183c-edfe-4908-bdfc-c5708d41f30c"
    }
   },
   "source": [
    "## Data Creation"
   ]
  },
  {
   "cell_type": "code",
   "execution_count": 5,
   "metadata": {
    "ExecuteTime": {
     "end_time": "2018-04-23T11:24:55.460496Z",
     "start_time": "2018-04-23T11:24:55.243373Z"
    },
    "nbpresent": {
     "id": "d8c23a0c-dd09-4f97-8cd9-b13059ea79f9"
    }
   },
   "outputs": [
    {
     "data": {
      "image/png": "[encoded data removed]",
      "text/plain": [
       "<Figure size 432x288 with 1 Axes>"
      ]
     },
     "metadata": {},
     "output_type": "display_data"
    }
   ],
   "source": [
    "labeled =3\n",
    "x,y=make_moons(n_samples=1000, shuffle=True, noise=0.00, random_state=rng.randint(2**10))\n",
    "trainx, testx, trainy, testy = train_test_split(x, y, test_size=0.33, random_state=rng.randint(2**10))\n",
    "trainx_unl = trainx.copy()\n",
    "\n",
    "inds = rng.permutation(trainx.shape[0])\n",
    "trainx = trainx[inds]\n",
    "trainy = trainy[inds]\n",
    "txs = []\n",
    "tys = []\n",
    "for j in range(10):\n",
    "    txs.append(trainx[trainy == j][:labeled])\n",
    "    tys.append(trainy[trainy == j][:labeled])\n",
    "txs = np.concatenate(txs, axis=0)\n",
    "tys = np.concatenate(tys, axis=0)\n",
    "trainx = txs\n",
    "trainy = tys\n",
    "\n",
    "nr_batch_train = trainx.shape[0] // params['batch_size']\n",
    "nr_batch_test = testx.shape[0] // params['batch_size']\n",
    "\n",
    "utils.scatter_2_class(testx,testy,s=8)\n",
    "# utils.scatter_2_class(trainx_unl,np.ones(trainx_unl.shape[0]),s=1,c='k')\n",
    "utils.scatter_2_class(trainx,trainy,marker = 'D',s=100)\n",
    "plt.show()\n"
   ]
  },
  {
   "cell_type": "code",
   "execution_count": 6,
   "metadata": {
    "ExecuteTime": {
     "end_time": "2018-04-23T11:24:55.470015Z",
     "start_time": "2018-04-23T11:24:55.463640Z"
    },
    "nbpresent": {
     "id": "b110d306-ef3f-4b1d-9d4c-5c636dce1cd7"
    }
   },
   "outputs": [],
   "source": [
    "def generator(z, output_dim=2, n_hidden=384, n_layer=6, reuse=False):\n",
    "    with tf.variable_scope(\"generator\", reuse=reuse):\n",
    "        h = slim.stack(z, slim.fully_connected, [n_hidden] * n_layer, activation_fn=tf.nn.relu)\n",
    "        x = slim.fully_connected(h, output_dim, activation_fn=None)\n",
    "    return x\n",
    "\n",
    "def discriminator(x, n_hidden=384, n_layer=6, reuse=False):\n",
    "    with tf.variable_scope(\"discriminator\", reuse=reuse):\n",
    "        h = slim.stack(x, slim.fully_connected, [n_hidden] * n_layer, activation_fn=tf.nn.relu)\n",
    "        log_d = slim.fully_connected(h, 1, activation_fn=None)\n",
    "    return log_d"
   ]
  },
  {
   "cell_type": "code",
   "execution_count": 7,
   "metadata": {
    "ExecuteTime": {
     "end_time": "2018-04-23T11:24:55.474826Z",
     "start_time": "2018-04-23T11:24:55.471977Z"
    },
    "nbpresent": {
     "id": "71c5a15f-4714-4d4b-b3fa-59ec6110b931"
    }
   },
   "outputs": [],
   "source": [
    "tf.reset_default_graph()"
   ]
  },
  {
   "cell_type": "markdown",
   "metadata": {
    "nbpresent": {
     "id": "c05e8c79-7454-441d-b76d-ec442290f7ed"
    }
   },
   "source": [
    "## Build model"
   ]
  },
  {
   "cell_type": "code",
   "execution_count": 8,
   "metadata": {
    "ExecuteTime": {
     "end_time": "2018-04-23T11:24:55.508097Z",
     "start_time": "2018-04-23T11:24:55.477477Z"
    },
    "nbpresent": {
     "id": "9e82aa00-2c19-4405-a967-46dbf59bb4f4"
    }
   },
   "outputs": [],
   "source": [
    "unl_dataset = tf.data.Dataset.from_tensor_slices(trainx_unl)\n",
    "unl_dataset = unl_dataset.shuffle(10000).repeat().batch(params['unl_batch_size'])\n",
    "\n",
    "train_dataset = tf.data.Dataset.from_tensor_slices((trainx, trainy))\n",
    "train_dataset = train_dataset.shuffle(10000).repeat().batch(params['batch_size'])\n",
    "\n",
    "test_dataset = tf.data.Dataset.from_tensor_slices((testx, testy))\n",
    "test_dataset = test_dataset.repeat().batch(params['batch_size'])\n",
    "\n",
    "iterator = tf.data.Iterator.from_structure(train_dataset.output_types,\n",
    "                                               train_dataset.output_shapes)\n",
    "next_element, next_label = iterator.get_next()\n",
    "training_init_op = iterator.make_initializer(train_dataset)\n",
    "validation_init_op = iterator.make_initializer(test_dataset)\n",
    "\n",
    "iterator_unl = unl_dataset.make_one_shot_iterator()\n",
    "next_unl = iterator_unl.get_next()"
   ]
  },
  {
   "cell_type": "code",
   "execution_count": 9,
   "metadata": {
    "ExecuteTime": {
     "end_time": "2018-04-23T11:24:57.630308Z",
     "start_time": "2018-04-23T11:24:55.509894Z"
    },
    "nbpresent": {
     "id": "291eab18-ef96-42e7-ab07-5d28232c652d"
    }
   },
   "outputs": [],
   "source": [
    "data = tf.cast(next_unl,tf.float32)\n",
    "noise = tf.random_normal(shape=[params['batch_size'],params['z_dim']])\n",
    "# Construct generator and discriminator nets\n",
    "with slim.arg_scope([slim.fully_connected], weights_initializer=tf.orthogonal_initializer(gain=1.)):\n",
    "    samples = generator(noise, output_dim=params['x_dim'])\n",
    "    real_score = discriminator(data)\n",
    "    fake_score = discriminator(samples, reuse=True)\n",
    "    \n",
    "# Saddle objective    \n",
    "loss = tf.reduce_mean(\n",
    "    tf.nn.sigmoid_cross_entropy_with_logits(logits=real_score, labels=tf.ones_like(real_score)) +\n",
    "    tf.nn.sigmoid_cross_entropy_with_logits(logits=fake_score, labels=tf.zeros_like(fake_score)))\n",
    "\n",
    "gen_vars = tf.get_collection(tf.GraphKeys.TRAINABLE_VARIABLES, \"generator\")\n",
    "disc_vars = tf.get_collection(tf.GraphKeys.TRAINABLE_VARIABLES, \"discriminator\")\n",
    "\n",
    "optimizer = tf.train.RMSPropOptimizer(params['learning_rate'], use_locking=True)\n",
    "\n",
    "d_grads = tf.gradients(loss, disc_vars)\n",
    "g_grads = tf.gradients(-loss, gen_vars)\n",
    "\n",
    "variables = disc_vars + gen_vars\n",
    "grads = d_grads + g_grads\n",
    "    \n",
    "reg = 0.5 * sum(tf.reduce_sum(tf.square(g)) for g in grads)\n",
    "Jgrads = tf.gradients(reg, variables)\n",
    "\n",
    "apply_vec = [(g + params['reg_w'] * Jg, v)for (g, Jg, v) in zip(grads, Jgrads, variables) if Jg is not None]\n",
    "\n",
    "with tf.control_dependencies([g for (g, v) in apply_vec]):\n",
    "    train_op = optimizer.apply_gradients(apply_vec)    "
   ]
  },
  {
   "cell_type": "markdown",
   "metadata": {},
   "source": [
    "## Vector Field"
   ]
  },
  {
   "cell_type": "code",
   "execution_count": 10,
   "metadata": {
    "ExecuteTime": {
     "end_time": "2018-04-23T11:24:57.664019Z",
     "start_time": "2018-04-23T11:24:57.632620Z"
    }
   },
   "outputs": [],
   "source": [
    "perturb = tf.random_normal([params['batch_size'],params['z_dim']], mean=0, stddev=1)\n",
    "perturb = tf.nn.l2_normalize(perturb, dim=[1])\n",
    "z_pert = noise + 1e-1* perturb\n",
    "samples_perturb = generator(z_pert, output_dim=params['x_dim'], reuse=True)"
   ]
  },
  {
   "cell_type": "code",
   "execution_count": 11,
   "metadata": {
    "ExecuteTime": {
     "end_time": "2018-04-23T11:24:57.668574Z",
     "start_time": "2018-04-23T11:24:57.666055Z"
    }
   },
   "outputs": [],
   "source": [
    "# samples_perturb = generator(noise, output_dim=params['x_dim'], reuse=True)"
   ]
  },
  {
   "cell_type": "code",
   "execution_count": 12,
   "metadata": {
    "ExecuteTime": {
     "end_time": "2018-04-23T11:25:00.182256Z",
     "start_time": "2018-04-23T11:24:57.670552Z"
    },
    "nbpresent": {
     "id": "f315b841-1ff2-4308-86d3-5163bafc72b2"
    }
   },
   "outputs": [],
   "source": [
    "sess = tf.InteractiveSession()\n",
    "sess.run(tf.global_variables_initializer())"
   ]
  },
  {
   "cell_type": "code",
   "execution_count": 17,
   "metadata": {
    "ExecuteTime": {
     "end_time": "2018-04-23T11:41:54.456687Z",
     "start_time": "2018-04-23T11:41:35.636945Z"
    },
    "nbpresent": {
     "id": "cf45fdc8-a36f-4dbf-9cdd-83854b08869f"
    }
   },
   "outputs": [
    {
     "data": {
      "application/vnd.jupyter.widget-view+json": {
       "model_id": "12b881fbb86a4fb68d79784438443b1e",
       "version_major": 2,
       "version_minor": 0
      },
      "text/plain": [
       "HBox(children=(IntProgress(value=0, max=20001), HTML(value='')))"
      ]
     },
     "metadata": {},
     "output_type": "display_data"
    },
    {
     "data": {
      "image/png": "[encoded data removed]",
      "text/plain": [
       "<Figure size 1080x360 with 3 Axes>"
      ]
     },
     "metadata": {},
     "output_type": "display_data"
    },
    {
     "ename": "KeyboardInterrupt",
     "evalue": "",
     "output_type": "error",
     "traceback": [
      "\u001b[0;31m---------------------------------------------------------------------------\u001b[0m",
      "\u001b[0;31mKeyboardInterrupt\u001b[0m                         Traceback (most recent call last)",
      "\u001b[0;32m<ipython-input-17-28cafc29c71a>\u001b[0m in \u001b[0;36m<module>\u001b[0;34m()\u001b[0m\n\u001b[1;32m      9\u001b[0m \u001b[0;34m\u001b[0m\u001b[0m\n\u001b[1;32m     10\u001b[0m \u001b[0;32mfor\u001b[0m \u001b[0mi\u001b[0m \u001b[0;32min\u001b[0m \u001b[0mtqdm\u001b[0m\u001b[0;34m(\u001b[0m\u001b[0mrange\u001b[0m\u001b[0;34m(\u001b[0m\u001b[0mparams\u001b[0m\u001b[0;34m[\u001b[0m\u001b[0;34m'max_iter'\u001b[0m\u001b[0;34m]\u001b[0m\u001b[0;34m+\u001b[0m\u001b[0;36m1\u001b[0m\u001b[0;34m)\u001b[0m\u001b[0;34m)\u001b[0m\u001b[0;34m:\u001b[0m\u001b[0;34m\u001b[0m\u001b[0m\n\u001b[0;32m---> 11\u001b[0;31m     \u001b[0mf\u001b[0m\u001b[0;34m,\u001b[0m \u001b[0m_\u001b[0m\u001b[0;34m=\u001b[0m \u001b[0msess\u001b[0m\u001b[0;34m.\u001b[0m\u001b[0mrun\u001b[0m\u001b[0;34m(\u001b[0m\u001b[0;34m[\u001b[0m\u001b[0;34m[\u001b[0m\u001b[0mloss\u001b[0m\u001b[0;34m]\u001b[0m\u001b[0;34m,\u001b[0m \u001b[0mtrain_op\u001b[0m\u001b[0;34m]\u001b[0m\u001b[0;34m)\u001b[0m\u001b[0;34m\u001b[0m\u001b[0m\n\u001b[0m\u001b[1;32m     12\u001b[0m \u001b[0;34m\u001b[0m\u001b[0m\n\u001b[1;32m     13\u001b[0m     \u001b[0mfs\u001b[0m\u001b[0;34m.\u001b[0m\u001b[0mappend\u001b[0m\u001b[0;34m(\u001b[0m\u001b[0mf\u001b[0m\u001b[0;34m)\u001b[0m\u001b[0;34m\u001b[0m\u001b[0m\n",
      "\u001b[0;32m/home/data/bruno/anaconda3/envs/tf-1.4-env/lib/python3.6/site-packages/tensorflow/python/client/session.py\u001b[0m in \u001b[0;36mrun\u001b[0;34m(self, fetches, feed_dict, options, run_metadata)\u001b[0m\n\u001b[1;32m    887\u001b[0m     \u001b[0;32mtry\u001b[0m\u001b[0;34m:\u001b[0m\u001b[0;34m\u001b[0m\u001b[0m\n\u001b[1;32m    888\u001b[0m       result = self._run(None, fetches, feed_dict, options_ptr,\n\u001b[0;32m--> 889\u001b[0;31m                          run_metadata_ptr)\n\u001b[0m\u001b[1;32m    890\u001b[0m       \u001b[0;32mif\u001b[0m \u001b[0mrun_metadata\u001b[0m\u001b[0;34m:\u001b[0m\u001b[0;34m\u001b[0m\u001b[0m\n\u001b[1;32m    891\u001b[0m         \u001b[0mproto_data\u001b[0m \u001b[0;34m=\u001b[0m \u001b[0mtf_session\u001b[0m\u001b[0;34m.\u001b[0m\u001b[0mTF_GetBuffer\u001b[0m\u001b[0;34m(\u001b[0m\u001b[0mrun_metadata_ptr\u001b[0m\u001b[0;34m)\u001b[0m\u001b[0;34m\u001b[0m\u001b[0m\n",
      "\u001b[0;32m/home/data/bruno/anaconda3/envs/tf-1.4-env/lib/python3.6/site-packages/tensorflow/python/client/session.py\u001b[0m in \u001b[0;36m_run\u001b[0;34m(self, handle, fetches, feed_dict, options, run_metadata)\u001b[0m\n\u001b[1;32m   1118\u001b[0m     \u001b[0;32mif\u001b[0m \u001b[0mfinal_fetches\u001b[0m \u001b[0;32mor\u001b[0m \u001b[0mfinal_targets\u001b[0m \u001b[0;32mor\u001b[0m \u001b[0;34m(\u001b[0m\u001b[0mhandle\u001b[0m \u001b[0;32mand\u001b[0m \u001b[0mfeed_dict_tensor\u001b[0m\u001b[0;34m)\u001b[0m\u001b[0;34m:\u001b[0m\u001b[0;34m\u001b[0m\u001b[0m\n\u001b[1;32m   1119\u001b[0m       results = self._do_run(handle, final_targets, final_fetches,\n\u001b[0;32m-> 1120\u001b[0;31m                              feed_dict_tensor, options, run_metadata)\n\u001b[0m\u001b[1;32m   1121\u001b[0m     \u001b[0;32melse\u001b[0m\u001b[0;34m:\u001b[0m\u001b[0;34m\u001b[0m\u001b[0m\n\u001b[1;32m   1122\u001b[0m       \u001b[0mresults\u001b[0m \u001b[0;34m=\u001b[0m \u001b[0;34m[\u001b[0m\u001b[0;34m]\u001b[0m\u001b[0;34m\u001b[0m\u001b[0m\n",
      "\u001b[0;32m/home/data/bruno/anaconda3/envs/tf-1.4-env/lib/python3.6/site-packages/tensorflow/python/client/session.py\u001b[0m in \u001b[0;36m_do_run\u001b[0;34m(self, handle, target_list, fetch_list, feed_dict, options, run_metadata)\u001b[0m\n\u001b[1;32m   1315\u001b[0m     \u001b[0;32mif\u001b[0m \u001b[0mhandle\u001b[0m \u001b[0;32mis\u001b[0m \u001b[0;32mNone\u001b[0m\u001b[0;34m:\u001b[0m\u001b[0;34m\u001b[0m\u001b[0m\n\u001b[1;32m   1316\u001b[0m       return self._do_call(_run_fn, self._session, feeds, fetches, targets,\n\u001b[0;32m-> 1317\u001b[0;31m                            options, run_metadata)\n\u001b[0m\u001b[1;32m   1318\u001b[0m     \u001b[0;32melse\u001b[0m\u001b[0;34m:\u001b[0m\u001b[0;34m\u001b[0m\u001b[0m\n\u001b[1;32m   1319\u001b[0m       \u001b[0;32mreturn\u001b[0m \u001b[0mself\u001b[0m\u001b[0;34m.\u001b[0m\u001b[0m_do_call\u001b[0m\u001b[0;34m(\u001b[0m\u001b[0m_prun_fn\u001b[0m\u001b[0;34m,\u001b[0m \u001b[0mself\u001b[0m\u001b[0;34m.\u001b[0m\u001b[0m_session\u001b[0m\u001b[0;34m,\u001b[0m \u001b[0mhandle\u001b[0m\u001b[0;34m,\u001b[0m \u001b[0mfeeds\u001b[0m\u001b[0;34m,\u001b[0m \u001b[0mfetches\u001b[0m\u001b[0;34m)\u001b[0m\u001b[0;34m\u001b[0m\u001b[0m\n",
      "\u001b[0;32m/home/data/bruno/anaconda3/envs/tf-1.4-env/lib/python3.6/site-packages/tensorflow/python/client/session.py\u001b[0m in \u001b[0;36m_do_call\u001b[0;34m(self, fn, *args)\u001b[0m\n\u001b[1;32m   1321\u001b[0m   \u001b[0;32mdef\u001b[0m \u001b[0m_do_call\u001b[0m\u001b[0;34m(\u001b[0m\u001b[0mself\u001b[0m\u001b[0;34m,\u001b[0m \u001b[0mfn\u001b[0m\u001b[0;34m,\u001b[0m \u001b[0;34m*\u001b[0m\u001b[0margs\u001b[0m\u001b[0;34m)\u001b[0m\u001b[0;34m:\u001b[0m\u001b[0;34m\u001b[0m\u001b[0m\n\u001b[1;32m   1322\u001b[0m     \u001b[0;32mtry\u001b[0m\u001b[0;34m:\u001b[0m\u001b[0;34m\u001b[0m\u001b[0m\n\u001b[0;32m-> 1323\u001b[0;31m       \u001b[0;32mreturn\u001b[0m \u001b[0mfn\u001b[0m\u001b[0;34m(\u001b[0m\u001b[0;34m*\u001b[0m\u001b[0margs\u001b[0m\u001b[0;34m)\u001b[0m\u001b[0;34m\u001b[0m\u001b[0m\n\u001b[0m\u001b[1;32m   1324\u001b[0m     \u001b[0;32mexcept\u001b[0m \u001b[0merrors\u001b[0m\u001b[0;34m.\u001b[0m\u001b[0mOpError\u001b[0m \u001b[0;32mas\u001b[0m \u001b[0me\u001b[0m\u001b[0;34m:\u001b[0m\u001b[0;34m\u001b[0m\u001b[0m\n\u001b[1;32m   1325\u001b[0m       \u001b[0mmessage\u001b[0m \u001b[0;34m=\u001b[0m \u001b[0mcompat\u001b[0m\u001b[0;34m.\u001b[0m\u001b[0mas_text\u001b[0m\u001b[0;34m(\u001b[0m\u001b[0me\u001b[0m\u001b[0;34m.\u001b[0m\u001b[0mmessage\u001b[0m\u001b[0;34m)\u001b[0m\u001b[0;34m\u001b[0m\u001b[0m\n",
      "\u001b[0;32m/home/data/bruno/anaconda3/envs/tf-1.4-env/lib/python3.6/site-packages/tensorflow/python/client/session.py\u001b[0m in \u001b[0;36m_run_fn\u001b[0;34m(session, feed_dict, fetch_list, target_list, options, run_metadata)\u001b[0m\n\u001b[1;32m   1300\u001b[0m           return tf_session.TF_Run(session, options,\n\u001b[1;32m   1301\u001b[0m                                    \u001b[0mfeed_dict\u001b[0m\u001b[0;34m,\u001b[0m \u001b[0mfetch_list\u001b[0m\u001b[0;34m,\u001b[0m \u001b[0mtarget_list\u001b[0m\u001b[0;34m,\u001b[0m\u001b[0;34m\u001b[0m\u001b[0m\n\u001b[0;32m-> 1302\u001b[0;31m                                    status, run_metadata)\n\u001b[0m\u001b[1;32m   1303\u001b[0m \u001b[0;34m\u001b[0m\u001b[0m\n\u001b[1;32m   1304\u001b[0m     \u001b[0;32mdef\u001b[0m \u001b[0m_prun_fn\u001b[0m\u001b[0;34m(\u001b[0m\u001b[0msession\u001b[0m\u001b[0;34m,\u001b[0m \u001b[0mhandle\u001b[0m\u001b[0;34m,\u001b[0m \u001b[0mfeed_dict\u001b[0m\u001b[0;34m,\u001b[0m \u001b[0mfetch_list\u001b[0m\u001b[0;34m)\u001b[0m\u001b[0;34m:\u001b[0m\u001b[0;34m\u001b[0m\u001b[0m\n",
      "\u001b[0;31mKeyboardInterrupt\u001b[0m: "
     ]
    }
   ],
   "source": [
    "fs = []\n",
    "frames = []\n",
    "np_samples = []\n",
    "n_batches_viz = 1\n",
    "viz_every = params['viz_every']\n",
    "n_quiver = 80\n",
    "\n",
    "yy = np.vstack([sess.run(data) for _ in range(n_batches_viz)])\n",
    "\n",
    "for i in tqdm(range(params['max_iter']+1)):\n",
    "    f, _= sess.run([[loss], train_op])\n",
    "\n",
    "    fs.append(f)\n",
    "    if (i) % viz_every == 0:\n",
    "        gen_samples, gen_samples_pert = sess.run([samples,samples_perturb])\n",
    "#         np_samples.append(gen_samples)\n",
    "#         gen_samples_pert = np.vstack([sess.run(samples_perturb) for _ in range(n_batches_viz)])\n",
    "#         np_samples.append(gen_samples_pert)\n",
    "#         xx, yy = sess.run([samples, data])\n",
    "        \n",
    "        xx = gen_samples\n",
    "        zz = gen_samples_pert\n",
    "#         fig = plt.figure(figsize=(5,5))\n",
    "#         plt.scatter(xx[:, 0], xx[:, 1], edgecolor='none',s=10)\n",
    "#         plt.scatter(yy[:, 0], yy[:, 1], c='g', edgecolor='none',s=10)\n",
    "#         plt.scatter(zz[:, 0], zz[:, 1], edgecolor='none',s=15)\n",
    "#         plt.axis('off')\n",
    "#         plt.show()\n",
    "        \n",
    "        \n",
    "        uu = zz - xx \n",
    "        norm = np.linalg.norm(uu,axis=1,keepdims=1)\n",
    "        uu_n = uu / (norm * np.ones([1,2]))\n",
    "        fig = plt.figure(figsize=(15,5))\n",
    "        plt.subplot(131)\n",
    "        plt.scatter(xx[:, 0], xx[:, 1], edgecolor='none',s=10,c='r')\n",
    "        plt.scatter(yy[:, 0], yy[:, 1], c='g', edgecolor='none',s=10,alpha = 0.3)\n",
    "        plt.scatter(zz[:, 0], zz[:, 1], edgecolor='none',s=10,alpha = 0.3)\n",
    "        plt.xlim([-1.5,2.5]);plt.ylim([-1,1.5])\n",
    "        plt.legend(['generated samples','original distribution'])\n",
    "#         plt.axis('off')\n",
    "#         print(uu_n)\n",
    "        plt.subplot(132)\n",
    "        plt.quiver(xx[:n_quiver, 0], xx[:n_quiver, 1],  uu_n[:n_quiver,0], uu_n[:n_quiver,1])\n",
    "#         plt.quiver(xx[:, 0], xx[:, 1],  np.ones_like(xx[:, 0]), np.ones_like(xx[:, 0]))\n",
    "        plt.scatter(yy[:, 0], yy[:, 1], c='g', edgecolor='none',s=10,alpha = 0.3)\n",
    "\n",
    "\n",
    "        plt.xlim([-1.5,2.5]);plt.ylim([-1,1.5])\n",
    "#         plt.axis('off')\n",
    "        \n",
    "#         plt.subplot(133)\n",
    "#         plt.quiver(xx[:n_quiver, 0], xx[:n_quiver, 1],  uu[:n_quiver,0], uu[:n_quiver,1])\n",
    "#         plt.xlim([-1.5,2.5]);plt.ylim([-1,1.5])\n",
    "#         plt.scatter(yy[:, 0], yy[:, 1], c='g', edgecolor='none',s=10,alpha = 0.3)\n",
    "\n",
    "        \n",
    "        \n",
    "        plt.subplot(133)\n",
    "#         plt.quiver(xx[:n_quiver, 0], xx[:n_quiver, 1],  uu[:n_quiver,0], uu[:n_quiver,1],alpha=0.4)\n",
    "        plt.xlim([-1.5,2.5]);plt.ylim([-1,1.5])\n",
    "        plt.scatter(xx[:n_quiver, 0], xx[:n_quiver, 1], edgecolor='none',s=20,c='r')\n",
    "        plt.scatter(zz[:n_quiver, 0], zz[:n_quiver, 1], edgecolor='none',s=20)\n",
    "#         plt.axis('off')\n",
    "#         for i in range(xx.shape[0]):\n",
    "        for i in range(n_quiver):\n",
    "            plt.arrow(xx[i,0], xx[i,1], uu[i,0], uu[i,1], head_width=0.05, head_length=0.1, fc='k', ec='k',alpha=0.4,color='r')\n",
    "        \n",
    "        plt.show()\n"
   ]
  },
  {
   "cell_type": "code",
   "execution_count": 16,
   "metadata": {
    "ExecuteTime": {
     "end_time": "2018-04-23T11:36:38.992329Z",
     "start_time": "2018-04-23T11:36:38.224969Z"
    },
    "nbpresent": {
     "id": "db7bfc7a-3b7f-4c3c-9c7c-6143ef4e9bd1"
    }
   },
   "outputs": [
    {
     "data": {
      "application/vnd.jupyter.widget-view+json": {
       "model_id": "d74f1479b1f243d0b903564731b4e444",
       "version_major": 2,
       "version_minor": 0
      },
      "text/plain": [
       "HBox(children=(IntProgress(value=0, max=1200), HTML(value='')))"
      ]
     },
     "metadata": {},
     "output_type": "display_data"
    },
    {
     "name": "stdout",
     "output_type": "stream",
     "text": [
      "\n"
     ]
    },
    {
     "ename": "NameError",
     "evalue": "name 'xloss' is not defined",
     "output_type": "error",
     "traceback": [
      "\u001b[0;31m---------------------------------------------------------------------------\u001b[0m",
      "\u001b[0;31mNameError\u001b[0m                                 Traceback (most recent call last)",
      "\u001b[0;32m<ipython-input-16-6bc78c980142>\u001b[0m in \u001b[0;36m<module>\u001b[0;34m()\u001b[0m\n\u001b[1;32m      3\u001b[0m \u001b[0msess\u001b[0m\u001b[0;34m.\u001b[0m\u001b[0mrun\u001b[0m\u001b[0;34m(\u001b[0m\u001b[0mtraining_init_op\u001b[0m\u001b[0;34m)\u001b[0m\u001b[0;34m\u001b[0m\u001b[0m\n\u001b[1;32m      4\u001b[0m \u001b[0;32mfor\u001b[0m \u001b[0mi\u001b[0m \u001b[0;32min\u001b[0m \u001b[0mtqdm\u001b[0m\u001b[0;34m(\u001b[0m\u001b[0mrange\u001b[0m\u001b[0;34m(\u001b[0m\u001b[0mparams\u001b[0m\u001b[0;34m[\u001b[0m\u001b[0;34m'epoch'\u001b[0m\u001b[0;34m]\u001b[0m\u001b[0;34m)\u001b[0m\u001b[0;34m)\u001b[0m\u001b[0;34m:\u001b[0m\u001b[0;34m\u001b[0m\u001b[0m\n\u001b[0;32m----> 5\u001b[0;31m     \u001b[0mxl\u001b[0m\u001b[0;34m,\u001b[0m\u001b[0mjl\u001b[0m\u001b[0;34m,\u001b[0m \u001b[0m_\u001b[0m\u001b[0;34m,\u001b[0m \u001b[0macc\u001b[0m\u001b[0;34m,\u001b[0m\u001b[0ml2\u001b[0m \u001b[0;34m=\u001b[0m \u001b[0msess\u001b[0m\u001b[0;34m.\u001b[0m\u001b[0mrun\u001b[0m\u001b[0;34m(\u001b[0m\u001b[0;34m[\u001b[0m\u001b[0mxloss\u001b[0m\u001b[0;34m,\u001b[0m \u001b[0mj_loss\u001b[0m\u001b[0;34m,\u001b[0m \u001b[0mtrain_op\u001b[0m\u001b[0;34m,\u001b[0m \u001b[0maccuracy\u001b[0m\u001b[0;34m,\u001b[0m\u001b[0m_l2\u001b[0m\u001b[0;34m]\u001b[0m\u001b[0;34m)\u001b[0m\u001b[0;34m\u001b[0m\u001b[0m\n\u001b[0m\u001b[1;32m      6\u001b[0m     \u001b[0mxls\u001b[0m\u001b[0;34m.\u001b[0m\u001b[0mappend\u001b[0m\u001b[0;34m(\u001b[0m\u001b[0mxl\u001b[0m\u001b[0;34m)\u001b[0m\u001b[0;34m;\u001b[0m \u001b[0mjls\u001b[0m\u001b[0;34m.\u001b[0m\u001b[0mappend\u001b[0m\u001b[0;34m(\u001b[0m\u001b[0mjl\u001b[0m\u001b[0;34m)\u001b[0m\u001b[0;34m;\u001b[0m \u001b[0mreg\u001b[0m\u001b[0;34m.\u001b[0m\u001b[0mappend\u001b[0m\u001b[0;34m(\u001b[0m\u001b[0ml2\u001b[0m\u001b[0;34m)\u001b[0m\u001b[0;34m\u001b[0m\u001b[0m\n\u001b[1;32m      7\u001b[0m     \u001b[0;32mif\u001b[0m \u001b[0mi\u001b[0m \u001b[0;34m%\u001b[0m \u001b[0;36m100\u001b[0m \u001b[0;34m==\u001b[0m \u001b[0;36m0\u001b[0m\u001b[0;34m:\u001b[0m\u001b[0;34m\u001b[0m\u001b[0m\n",
      "\u001b[0;31mNameError\u001b[0m: name 'xloss' is not defined"
     ]
    }
   ],
   "source": [
    "xls=[]; jls =[]\n",
    "reg = []\n",
    "sess.run(training_init_op)\n",
    "for i in tqdm(range(params['epoch'])):\n",
    "    xl,jl, _, acc,l2 = sess.run([xloss, j_loss, train_op, accuracy,_l2])\n",
    "    xls.append(xl); jls.append(jl); reg.append(l2)\n",
    "    if i % 100 == 0:\n",
    "        print(\"Epoch: {}, loss: {:.5f}, training accuracy: {:.2f}%\".format(i, xl, acc * 100))\n",
    "\n",
    "    if i % 200 == 0:\n",
    "        sess.run(validation_init_op)\n",
    "        avg_acc = 0; pred = []; valid_iters = nr_batch_test; nabla_datapoint = []\n",
    "        deltax = []\n",
    "        for i in range(valid_iters):\n",
    "            acc,p,dl = sess.run([accuracy,prediction,jacob_norm])\n",
    "            avg_acc += acc\n",
    "            pred.append(p); nabla_datapoint.append(dl)\n",
    "        print(\"Average validation set accuracy over {} iterations is {:.2f}%\".format(valid_iters,(avg_acc / valid_iters) * 100))\n",
    "        pred = np.concatenate(pred); _nabla = np.concatenate(nabla_datapoint)\n",
    "        sess.run(training_init_op)\n"
   ]
  },
  {
   "cell_type": "code",
   "execution_count": null,
   "metadata": {
    "ExecuteTime": {
     "end_time": "2018-04-23T11:36:38.996628Z",
     "start_time": "2018-04-23T11:34:12.825Z"
    },
    "nbpresent": {
     "id": "60c953ec-28ee-457c-9cb8-9efeaa8ec7be"
    }
   },
   "outputs": [],
   "source": [
    "plt.figure(1,figsize=(18,5))\n",
    "plt.subplot(131)\n",
    "utils.scatter_2_class(testx,pred,s=8)\n",
    "utils.scatter_2_class(trainx,trainy, marker='D',s=100)\n",
    "plt.legend(['_','_','labeled datapoint'])\n",
    "plt.subplot(132)\n",
    "plt.scatter(testx[:,0],testx[:,1], s=30, c=_nabla, alpha=1.,cmap='Reds',norm=None,vmin=0, vmax=500,linewidths=0.1,edgecolors='b')\n",
    "plt.colorbar()\n",
    "# plt.title('nabla loss')\n",
    "plt.legend(['nabla loss'])\n",
    "plt.subplot(133)                      \n",
    "plt.plot(xls)\n",
    "plt.plot(jls)\n",
    "plt.plot(reg)\n",
    "# plt.ylim([10^-2,10^(-3)])\n",
    "xlabel('epochs')\n",
    "plt.legend(['xentropy loss', 'nabla loss'])\n",
    "\n",
    "plt.show()"
   ]
  },
  {
   "cell_type": "code",
   "execution_count": null,
   "metadata": {
    "ExecuteTime": {
     "end_time": "2018-04-23T11:36:39.000097Z",
     "start_time": "2018-04-23T11:34:12.827Z"
    },
    "nbpresent": {
     "id": "9d2341c9-7e4e-4c30-b002-f67e1d969e0d"
    }
   },
   "outputs": [],
   "source": [
    "# utils.scatter_2_class(testx,pred,s=8)\n",
    "utils.scatter_2_class(deltax,pred,s=8)\n",
    "plt.show()"
   ]
  },
  {
   "cell_type": "code",
   "execution_count": null,
   "metadata": {
    "nbpresent": {
     "id": "c7970f31-05a4-4a8f-8b2f-7a33b7f5aeb5"
    }
   },
   "outputs": [],
   "source": []
  }
 ],
 "metadata": {
  "kernelspec": {
   "display_name": "Python [default]",
   "language": "python",
   "name": "python3"
  },
  "language_info": {
   "codemirror_mode": {
    "name": "ipython",
    "version": 3
   },
   "file_extension": ".py",
   "mimetype": "text/x-python",
   "name": "python",
   "nbconvert_exporter": "python",
   "pygments_lexer": "ipython3",
   "version": "3.6.5"
  },
  "varInspector": {
   "cols": {
    "lenName": 16,
    "lenType": 16,
    "lenVar": 40
   },
   "kernels_config": {
    "python": {
     "delete_cmd_postfix": "",
     "delete_cmd_prefix": "del ",
     "library": "var_list.py",
     "varRefreshCmd": "print(var_dic_list())"
    },
    "r": {
     "delete_cmd_postfix": ") ",
     "delete_cmd_prefix": "rm(",
     "library": "var_list.r",
     "varRefreshCmd": "cat(var_dic_list()) "
    }
   },
   "position": {
    "height": "627px",
    "left": "15.9886px",
    "right": "20px",
    "top": "184.991px",
    "width": "211px"
   },
   "types_to_exclude": [
    "module",
    "function",
    "builtin_function_or_method",
    "instance",
    "_Feature"
   ],
   "window_display": true
  }
 },
 "nbformat": 4,
 "nbformat_minor": 2
}
