{
 "cells": [
  {
   "cell_type": "code",
   "execution_count": 10,
   "metadata": {},
   "outputs": [
    {
     "name": "stdout",
     "output_type": "stream",
     "text": [
      "Populating the interactive namespace from numpy and matplotlib\n"
     ]
    }
   ],
   "source": [
    "% pylab inline\n",
    "import tensorflow as tf\n",
    "import numpy as np\n",
    "# import matplotlib.pyplot as plt\n",
    "# from tqdm import tqdm\n",
    "from tqdm import tqdm_notebook as tqdm\n",
    "\n",
    "\n",
    "from tensorflow.contrib.kfac.python.ops.utils import fwd_gradients\n",
    "import seaborn as sns\n",
    "\n",
    "slim = tf.contrib.slim\n",
    "ds = tf.contrib.distributions\n",
    "\n",
    "\n",
    "from functools import reduce\n",
    "from operator import mul\n",
    "\n",
    "\n",
    "import os\n",
    "os.environ[\"CUDA_VISIBLE_DEVICES\"]=\"0\"\n",
    "\n",
    "from sklearn.datasets import make_moons\n",
    "from sklearn.model_selection import train_test_split\n",
    "import utils\n",
    "ds = tf.contrib.distributions\n"
   ]
  },
  {
   "cell_type": "code",
   "execution_count": 11,
   "metadata": {},
   "outputs": [
    {
     "data": {
      "application/javascript": [
       "IPython.OutputArea.prototype._should_scroll = function(lines) {\n",
       "    return false;\n",
       "}"
      ],
      "text/plain": [
       "<IPython.core.display.Javascript object>"
      ]
     },
     "metadata": {},
     "output_type": "display_data"
    }
   ],
   "source": [
    "%%javascript\n",
    "IPython.OutputArea.prototype._should_scroll = function(lines) {\n",
    "    return false;\n",
    "}"
   ]
  },
  {
   "cell_type": "code",
   "execution_count": 12,
   "metadata": {},
   "outputs": [
    {
     "data": {
      "application/javascript": [
       "require(\n",
       "        [\"notebook/js/outputarea\"],\n",
       "        function (oa) {\n",
       "            oa.OutputArea.auto_scroll_threshold = -1;\n",
       "            console.log(\"Setting auto_scroll_threshold to -1\");\n",
       "        });"
      ],
      "text/plain": [
       "<IPython.core.display.Javascript object>"
      ]
     },
     "metadata": {},
     "output_type": "display_data"
    }
   ],
   "source": [
    "%%javascript\n",
    "require(\n",
    "        [\"notebook/js/outputarea\"],\n",
    "        function (oa) {\n",
    "            oa.OutputArea.auto_scroll_threshold = -1;\n",
    "            console.log(\"Setting auto_scroll_threshold to -1\");\n",
    "        });"
   ]
  },
  {
   "cell_type": "markdown",
   "metadata": {},
   "source": [
    "\n",
    "## Hyperparameters"
   ]
  },
  {
   "cell_type": "code",
   "execution_count": 40,
   "metadata": {},
   "outputs": [],
   "source": [
    "params = dict(\n",
    "    batch_size=10,\n",
    "    unl_batch_size = 10,\n",
    "    learning_rate=3e-4,\n",
    "    beta1=0.5,\n",
    "    epoch=1200,\n",
    "    epsilon=1e-8,\n",
    "    max_iter=20000,\n",
    "    viz_every=2000,\n",
    "    z_dim=256,\n",
    "    x_dim=2,\n",
    "    optimizer='rmsprop', # rmsprop sgd sga\n",
    "    seed = 122524,\n",
    "    nabla = 0,\n",
    "    reg_w = 10. \n",
    ")\n",
    "rng = np.random.RandomState(params['seed'])  # seed labels"
   ]
  },
  {
   "cell_type": "markdown",
   "metadata": {},
   "source": [
    "## Data Creation"
   ]
  },
  {
   "cell_type": "code",
   "execution_count": 41,
   "metadata": {},
   "outputs": [
    {
     "data": {
      "image/png": "[encoded data removed]",
      "text/plain": [
       "<matplotlib.figure.Figure at 0x7f187b334e10>"
      ]
     },
     "metadata": {},
     "output_type": "display_data"
    }
   ],
   "source": [
    "labeled =3\n",
    "x,y=make_moons(n_samples=1000, shuffle=True, noise=0.00, random_state=rng.randint(2**10))\n",
    "trainx, testx, trainy, testy = train_test_split(x, y, test_size=0.33, random_state=rng.randint(2**10))\n",
    "trainx_unl = trainx.copy()\n",
    "\n",
    "inds = rng.permutation(trainx.shape[0])\n",
    "trainx = trainx[inds]\n",
    "trainy = trainy[inds]\n",
    "txs = []\n",
    "tys = []\n",
    "for j in range(10):\n",
    "    txs.append(trainx[trainy == j][:labeled])\n",
    "    tys.append(trainy[trainy == j][:labeled])\n",
    "txs = np.concatenate(txs, axis=0)\n",
    "tys = np.concatenate(tys, axis=0)\n",
    "trainx = txs\n",
    "trainy = tys\n",
    "\n",
    "nr_batch_train = trainx.shape[0] // params['batch_size']\n",
    "nr_batch_test = testx.shape[0] // params['batch_size']\n",
    "\n",
    "utils.scatter_2_class(testx,testy,s=8)\n",
    "# utils.scatter_2_class(trainx_unl,np.ones(trainx_unl.shape[0]),s=1,c='k')\n",
    "utils.scatter_2_class(trainx,trainy,marker = 'D',s=100)\n",
    "plt.show()\n"
   ]
  },
  {
   "cell_type": "code",
   "execution_count": 42,
   "metadata": {},
   "outputs": [],
   "source": [
    "def generator(z, output_dim=2, n_hidden=384, n_layer=6):\n",
    "    with tf.variable_scope(\"generator\"):\n",
    "        h = slim.stack(z, slim.fully_connected, [n_hidden] * n_layer, activation_fn=tf.nn.relu)\n",
    "        x = slim.fully_connected(h, output_dim, activation_fn=None)\n",
    "    return x\n",
    "\n",
    "def discriminator(x, n_hidden=384, n_layer=6, reuse=False):\n",
    "    with tf.variable_scope(\"discriminator\", reuse=reuse):\n",
    "        h = slim.stack(x, slim.fully_connected, [n_hidden] * n_layer, activation_fn=tf.nn.relu)\n",
    "        log_d = slim.fully_connected(h, 1, activation_fn=None)\n",
    "    return log_d"
   ]
  },
  {
   "cell_type": "code",
   "execution_count": 43,
   "metadata": {},
   "outputs": [],
   "source": [
    "tf.reset_default_graph()"
   ]
  },
  {
   "cell_type": "markdown",
   "metadata": {},
   "source": [
    "## Build model"
   ]
  },
  {
   "cell_type": "code",
   "execution_count": 44,
   "metadata": {},
   "outputs": [],
   "source": [
    "unl_dataset = tf.data.Dataset.from_tensor_slices(trainx_unl)\n",
    "unl_dataset = unl_dataset.shuffle(10000).repeat().batch(params['unl_batch_size'])\n",
    "\n",
    "train_dataset = tf.data.Dataset.from_tensor_slices((trainx, trainy))\n",
    "train_dataset = train_dataset.shuffle(10000).repeat().batch(params['batch_size'])\n",
    "\n",
    "test_dataset = tf.data.Dataset.from_tensor_slices((testx, testy))\n",
    "test_dataset = test_dataset.repeat().batch(params['batch_size'])\n",
    "\n",
    "iterator = tf.data.Iterator.from_structure(train_dataset.output_types,\n",
    "                                               train_dataset.output_shapes)\n",
    "next_element, next_label = iterator.get_next()\n",
    "training_init_op = iterator.make_initializer(train_dataset)\n",
    "validation_init_op = iterator.make_initializer(test_dataset)\n",
    "\n",
    "iterator_unl = unl_dataset.make_one_shot_iterator()\n",
    "next_unl = iterator_unl.get_next()"
   ]
  },
  {
   "cell_type": "code",
   "execution_count": 45,
   "metadata": {},
   "outputs": [],
   "source": [
    "data = tf.cast(next_unl,tf.float32)\n",
    "\n",
    "noise = ds.Normal(tf.zeros(params['z_dim']), tf.ones(params['z_dim'])).sample(params['batch_size'])\n",
    "\n",
    "# Construct generator and discriminator nets\n",
    "with slim.arg_scope([slim.fully_connected], weights_initializer=tf.orthogonal_initializer(gain=1.)):\n",
    "    samples = generator(noise, output_dim=params['x_dim'])\n",
    "    real_score = discriminator(data)\n",
    "    fake_score = discriminator(samples, reuse=True)\n",
    "    \n",
    "# Saddle objective    \n",
    "loss = tf.reduce_mean(\n",
    "    tf.nn.sigmoid_cross_entropy_with_logits(logits=real_score, labels=tf.ones_like(real_score)) +\n",
    "    tf.nn.sigmoid_cross_entropy_with_logits(logits=fake_score, labels=tf.zeros_like(fake_score)))\n",
    "\n",
    "gen_vars = tf.get_collection(tf.GraphKeys.TRAINABLE_VARIABLES, \"generator\")\n",
    "disc_vars = tf.get_collection(tf.GraphKeys.TRAINABLE_VARIABLES, \"discriminator\")\n",
    "\n",
    "optimizer = tf.train.RMSPropOptimizer(params['learning_rate'], use_locking=True)\n",
    "\n",
    "d_grads = tf.gradients(loss, disc_vars)\n",
    "g_grads = tf.gradients(-loss, gen_vars)\n",
    "\n",
    "variables = disc_vars + gen_vars\n",
    "grads = d_grads + g_grads\n",
    "    \n",
    "reg = 0.5 * sum(tf.reduce_sum(tf.square(g)) for g in grads)\n",
    "Jgrads = tf.gradients(reg, variables)\n",
    "\n",
    "apply_vec = [(g + params['reg_w'] * Jg, v)for (g, Jg, v) in zip(grads, Jgrads, variables) if Jg is not None]\n",
    "\n",
    "with tf.control_dependencies([g for (g, v) in apply_vec]):\n",
    "    train_op = optimizer.apply_gradients(apply_vec)    "
   ]
  },
  {
   "cell_type": "code",
   "execution_count": null,
   "metadata": {},
   "outputs": [],
   "source": [
    "with slim.arg_scope([slim.fully_connected], weights_initializer=tf.orthogonal_initializer(gain=1.2)):\n",
    "    logits = tf.squeeze(discriminator(next_element))\n",
    "    logits_unl = tf.squeeze(discriminator(next_unl,reuse = True))\n",
    "\n",
    "# delta = tf.random_normal([params['unl_batch_size'],2], mean=0, stddev=0.1,dtype=tf.float64)\n",
    "# x_delta = next_unl+delta \n",
    "# logits_unl_delta = tf.squeeze(discriminator(x_delta,reuse = True))\n",
    "\n",
    "# add nabla penalty\n",
    "jacob_norm = tf.reduce_sum(tf.square(tf.gradients(logits_unl,next_unl)),axis=[0,2])\n",
    "j_loss = tf.reduce_mean(jacob_norm)\n",
    "_l2 = tf.losses.get_regularization_losses()\n",
    "\n",
    "# jacob_norm = tf.square(tf.nn.softmax(logits_unl) - tf.nn.softmax(logits_unl_delta))\n",
    "# j_loss = tf.reduce_mean(jacob_norm)\n",
    "\n",
    "xloss = tf.reduce_mean(\n",
    "    tf.nn.sigmoid_cross_entropy_with_logits(logits=logits, labels=tf.cast(next_label,tf.float64))) \n",
    "\n",
    "loss = xloss + params['nabla'] * j_loss + params['l2_w']* _l2[0]\n",
    "\n",
    "optimizer = tf.train.RMSPropOptimizer(params['learning_rate'])\n",
    "train_op = optimizer.minimize(loss)\n",
    "\n",
    "accuracy = utils.accuracy(logits,next_label)\n",
    "prediction = utils.prediction(logits)"
   ]
  },
  {
   "cell_type": "code",
   "execution_count": 46,
   "metadata": {},
   "outputs": [],
   "source": [
    "sess = tf.InteractiveSession()\n",
    "sess.run(tf.global_variables_initializer())"
   ]
  },
  {
   "cell_type": "code",
   "execution_count": null,
   "metadata": {},
   "outputs": [
    {
     "data": {
      "application/vnd.jupyter.widget-view+json": {
       "model_id": "5ade4055526d4a79b055512542a900a2"
      }
     },
     "metadata": {},
     "output_type": "display_data"
    },
    {
     "data": {
      "image/png": "[encoded data removed]",
      "text/plain": [
       "<matplotlib.figure.Figure at 0x7f187610fef0>"
      ]
     },
     "metadata": {},
     "output_type": "display_data"
    }
   ],
   "source": [
    "fs = []\n",
    "frames = []\n",
    "np_samples = []\n",
    "n_batches_viz = 10\n",
    "viz_every = params['viz_every']\n",
    "for i in tqdm(range(params['max_iter']+1)):\n",
    "    f, _= sess.run([[loss], train_op])\n",
    "\n",
    "    fs.append(f)\n",
    "    if (i) % viz_every == 0:\n",
    "        np_samples.append(np.vstack([sess.run(samples) for _ in range(n_batches_viz)]))\n",
    "        xx, yy = sess.run([samples, data])\n",
    "        fig = figure(figsize=(5,5))\n",
    "        scatter(xx[:, 0], xx[:, 1], edgecolor='none',s=10)\n",
    "        scatter(yy[:, 0], yy[:, 1], c='g', edgecolor='none',s=10)\n",
    "        axis('off')\n",
    "        show()"
   ]
  },
  {
   "cell_type": "code",
   "execution_count": 47,
   "metadata": {},
   "outputs": [
    {
     "data": {
      "application/vnd.jupyter.widget-view+json": {
       "model_id": "15db00f99cf0427eb2a0040955778630"
      }
     },
     "metadata": {},
     "output_type": "display_data"
    },
    {
     "name": "stdout",
     "output_type": "stream",
     "text": [
      "\n"
     ]
    },
    {
     "ename": "NameError",
     "evalue": "name 'xloss' is not defined",
     "output_type": "error",
     "traceback": [
      "\u001b[0;31m---------------------------------------------------------------------------\u001b[0m",
      "\u001b[0;31mNameError\u001b[0m                                 Traceback (most recent call last)",
      "\u001b[0;32m<ipython-input-47-6bc78c980142>\u001b[0m in \u001b[0;36m<module>\u001b[0;34m()\u001b[0m\n\u001b[1;32m      3\u001b[0m \u001b[0msess\u001b[0m\u001b[0;34m.\u001b[0m\u001b[0mrun\u001b[0m\u001b[0;34m(\u001b[0m\u001b[0mtraining_init_op\u001b[0m\u001b[0;34m)\u001b[0m\u001b[0;34m\u001b[0m\u001b[0m\n\u001b[1;32m      4\u001b[0m \u001b[0;32mfor\u001b[0m \u001b[0mi\u001b[0m \u001b[0;32min\u001b[0m \u001b[0mtqdm\u001b[0m\u001b[0;34m(\u001b[0m\u001b[0mrange\u001b[0m\u001b[0;34m(\u001b[0m\u001b[0mparams\u001b[0m\u001b[0;34m[\u001b[0m\u001b[0;34m'epoch'\u001b[0m\u001b[0;34m]\u001b[0m\u001b[0;34m)\u001b[0m\u001b[0;34m)\u001b[0m\u001b[0;34m:\u001b[0m\u001b[0;34m\u001b[0m\u001b[0m\n\u001b[0;32m----> 5\u001b[0;31m     \u001b[0mxl\u001b[0m\u001b[0;34m,\u001b[0m\u001b[0mjl\u001b[0m\u001b[0;34m,\u001b[0m \u001b[0m_\u001b[0m\u001b[0;34m,\u001b[0m \u001b[0macc\u001b[0m\u001b[0;34m,\u001b[0m\u001b[0ml2\u001b[0m \u001b[0;34m=\u001b[0m \u001b[0msess\u001b[0m\u001b[0;34m.\u001b[0m\u001b[0mrun\u001b[0m\u001b[0;34m(\u001b[0m\u001b[0;34m[\u001b[0m\u001b[0mxloss\u001b[0m\u001b[0;34m,\u001b[0m \u001b[0mj_loss\u001b[0m\u001b[0;34m,\u001b[0m \u001b[0mtrain_op\u001b[0m\u001b[0;34m,\u001b[0m \u001b[0maccuracy\u001b[0m\u001b[0;34m,\u001b[0m\u001b[0m_l2\u001b[0m\u001b[0;34m]\u001b[0m\u001b[0;34m)\u001b[0m\u001b[0;34m\u001b[0m\u001b[0m\n\u001b[0m\u001b[1;32m      6\u001b[0m     \u001b[0mxls\u001b[0m\u001b[0;34m.\u001b[0m\u001b[0mappend\u001b[0m\u001b[0;34m(\u001b[0m\u001b[0mxl\u001b[0m\u001b[0;34m)\u001b[0m\u001b[0;34m;\u001b[0m \u001b[0mjls\u001b[0m\u001b[0;34m.\u001b[0m\u001b[0mappend\u001b[0m\u001b[0;34m(\u001b[0m\u001b[0mjl\u001b[0m\u001b[0;34m)\u001b[0m\u001b[0;34m;\u001b[0m \u001b[0mreg\u001b[0m\u001b[0;34m.\u001b[0m\u001b[0mappend\u001b[0m\u001b[0;34m(\u001b[0m\u001b[0ml2\u001b[0m\u001b[0;34m)\u001b[0m\u001b[0;34m\u001b[0m\u001b[0m\n\u001b[1;32m      7\u001b[0m     \u001b[0;32mif\u001b[0m \u001b[0mi\u001b[0m \u001b[0;34m%\u001b[0m \u001b[0;36m100\u001b[0m \u001b[0;34m==\u001b[0m \u001b[0;36m0\u001b[0m\u001b[0;34m:\u001b[0m\u001b[0;34m\u001b[0m\u001b[0m\n",
      "\u001b[0;31mNameError\u001b[0m: name 'xloss' is not defined"
     ]
    }
   ],
   "source": [
    "xls=[]; jls =[]\n",
    "reg = []\n",
    "sess.run(training_init_op)\n",
    "for i in tqdm(range(params['epoch'])):\n",
    "    xl,jl, _, acc,l2 = sess.run([xloss, j_loss, train_op, accuracy,_l2])\n",
    "    xls.append(xl); jls.append(jl); reg.append(l2)\n",
    "    if i % 100 == 0:\n",
    "        print(\"Epoch: {}, loss: {:.5f}, training accuracy: {:.2f}%\".format(i, xl, acc * 100))\n",
    "\n",
    "    if i % 200 == 0:\n",
    "        sess.run(validation_init_op)\n",
    "        avg_acc = 0; pred = []; valid_iters = nr_batch_test; nabla_datapoint = []\n",
    "        deltax = []\n",
    "        for i in range(valid_iters):\n",
    "            acc,p,dl = sess.run([accuracy,prediction,jacob_norm])\n",
    "            avg_acc += acc\n",
    "            pred.append(p); nabla_datapoint.append(dl)\n",
    "        print(\"Average validation set accuracy over {} iterations is {:.2f}%\".format(valid_iters,(avg_acc / valid_iters) * 100))\n",
    "        pred = np.concatenate(pred); _nabla = np.concatenate(nabla_datapoint)\n",
    "        sess.run(training_init_op)\n"
   ]
  },
  {
   "cell_type": "code",
   "execution_count": null,
   "metadata": {},
   "outputs": [],
   "source": [
    "plt.figure(1,figsize=(18,5))\n",
    "plt.subplot(131)\n",
    "utils.scatter_2_class(testx,pred,s=8)\n",
    "utils.scatter_2_class(trainx,trainy, marker='D',s=100)\n",
    "plt.legend(['_','_','labeled datapoint'])\n",
    "plt.subplot(132)\n",
    "plt.scatter(testx[:,0],testx[:,1], s=30, c=_nabla, alpha=1.,cmap='Reds',norm=None,vmin=0, vmax=500,linewidths=0.1,edgecolors='b')\n",
    "plt.colorbar()\n",
    "# plt.title('nabla loss')\n",
    "plt.legend(['nabla loss'])\n",
    "plt.subplot(133)                      \n",
    "plt.plot(xls)\n",
    "plt.plot(jls)\n",
    "plt.plot(reg)\n",
    "# plt.ylim([10^-2,10^(-3)])\n",
    "xlabel('epochs')\n",
    "plt.legend(['xentropy loss', 'nabla loss'])\n",
    "\n",
    "plt.show()"
   ]
  },
  {
   "cell_type": "code",
   "execution_count": null,
   "metadata": {},
   "outputs": [],
   "source": [
    "# utils.scatter_2_class(testx,pred,s=8)\n",
    "utils.scatter_2_class(deltax,pred,s=8)\n",
    "plt.show()"
   ]
  },
  {
   "cell_type": "code",
   "execution_count": null,
   "metadata": {},
   "outputs": [],
   "source": []
  }
 ],
 "metadata": {
  "kernelspec": {
   "display_name": "Python 3",
   "language": "python",
   "name": "python3"
  },
  "language_info": {
   "codemirror_mode": {
    "name": "ipython",
    "version": 3
   },
   "file_extension": ".py",
   "mimetype": "text/x-python",
   "name": "python",
   "nbconvert_exporter": "python",
   "pygments_lexer": "ipython3",
   "version": "3.6.4"
  }
 },
 "nbformat": 4,
 "nbformat_minor": 2
}
